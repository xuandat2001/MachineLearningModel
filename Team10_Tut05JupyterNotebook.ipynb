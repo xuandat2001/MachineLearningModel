{
 "cells": [
  {
   "cell_type": "markdown",
   "metadata": {},
   "source": [
    "# Assignment 3 (OPTION A): Machine Learning\n",
    "\n",
    "<b>Group members:</b> <br><br>\n",
    "Ung Xuan Dat (s3932156)\n",
    "\n",
    "Pham Quang Huy (s3970891)\n",
    "\n",
    "Le Phuong Ngan (s3978567)\n",
    "\n",
    "Hong Thieu Kiet (s3993986)\n",
    "___"
   ]
  },
  {
   "cell_type": "markdown",
   "metadata": {},
   "source": [
    "# Table of Contents:\n",
    "\n",
    "## I. LOOK AT THE BIG PICTURE AND DATA EXPLORATION\n",
    "\n",
    "### A. Data input and visualization\n",
    "\n",
    "#### 1.1 Look at the big picture\n",
    "#### 1.2 Data Exploration: Get the data\n",
    "#### 1.3 Scatter plot between 2 features\n",
    "\n",
    "### B. Data input and visualization\n",
    "\n",
    "## II. Data Processing\n",
    "\n",
    "#### 1. Handling missing values\n",
    "#### 2. Identify and handle outliers\n",
    "#### 3. Encode categorical features\n",
    "#### 4. Split dataset into training and testing data\n",
    "\n",
    "## III. Model Training and Evaluation\n",
    "\n",
    "### A. Model Training\n",
    "\n",
    "#### 1. Linear Regression model\n",
    "#### 2. Decision Tree Regressor model\n",
    "#### 3. Random Forest Regressor model\n",
    "#### 4. Polinomial Regression model\n",
    "#### 5. Support Vector Regression \n",
    "#### 6. Gradient Boosting Regressor\n",
    "#### 7. XGBoost Regressor\n",
    "\n",
    "### B. Evaluation\n",
    "\n",
    "### C. Comparision of Different Models\n",
    "\n",
    "## IV. Hyperparameter Fine-tuning\n",
    "\n",
    "### A. Evaluation\n",
    "\n",
    "### B. Justification for Value ranges\n",
    "\n",
    "## V. Model Testing and Analysis\n",
    "\n",
    "### A. Feature importance\n",
    "\n",
    "### B. Model performance\n",
    "\n",
    "### C. Potential limitations and possible low performance causes\n",
    "\n",
    "### D. Suggestions for Improvements\n",
    "\n",
    "### E. Conclusion\n",
    "***"
   ]
  },
  {
   "cell_type": "markdown",
   "metadata": {},
   "source": [
    "# I. LOOK AT THE BIG PICTURE AND DATA EXPLORATION:"
   ]
  },
  {
   "cell_type": "markdown",
   "metadata": {},
   "source": [
    "## A. Data input and visualization"
   ]
  },
  {
   "cell_type": "markdown",
   "metadata": {},
   "source": [
    "\n",
    "\n",
    "### 1.1 Look at the big picture\n",
    "\n",
    "1. End goal of the project: The purpose of this Machine Learning (ML) application project is to train AI models, allowing predictions of each car's the selling price depending on their stated characteristics and conditions. The end goal is to help businesses understand the market trend and produce new profitable products in the future. The dataset can be analyzed and evaluated to gain better insights on the second-hand cars, with a few potential uses, including:\n",
    "    - Predict and anticipate a trend in consumer behaviors, realize the factors that might cause these behaviors and what aspects make certain car models more appealing compared to others.\n",
    "    - The dataset may be used to evaluate fuel efficiency of different models as there are a variety of characteristics, including manufactured year and mileage, that can potentially affect it.\n",
    "    - Lastly, the dataset can potentially be used to analyze and observe how the number of owners can affect the overall performance of the asset on the second-hand market.\n",
    "\n",
    "2. Algorithm:\n",
    "The algorithm to use is supervised regression.\n",
    "\n",
    "3. Performance Measure:\n",
    "* Root Mean Squared Error (RMSE) - Square root of the average squared difference between speculated values of the dataset and actual values from the data.\n",
    "* R^2 Score (Coefficient of Determination) (Later referred to as <u>R2 Score</u>) - The coefficient measures the proportion of variance in the dependent variable predicted from the independent variables.\n",
    "\n",
    "4. Collected Data:\n",
    "The data is already collected from the lecturer.\n",
    "The dataset is about car retails."
   ]
  },
  {
   "cell_type": "markdown",
   "metadata": {},
   "source": [
    "### 1.2 Data Exploration: Get the data"
   ]
  },
  {
   "cell_type": "code",
   "execution_count": 18,
   "metadata": {},
   "outputs": [],
   "source": [
    "# Python version: 3.12.5\n",
    "\n",
    "# Packages required to be installed when running thre Jupyter notebook file \n",
    "\n",
    "# NOTE: Please remove the commment hashtag and the white space (\"# \") of the lines below to \n",
    "#       install all the necessary python packages the first time to run this Jupyter notebook smoothly. \n",
    "#       Thank you!\n",
    "\n",
    "# %pip install scikit-learn\n",
    "# %pip install xgboost\n",
    "# %pip install pandas\n",
    "# %pip install matplotlib"
   ]
  },
  {
   "cell_type": "code",
   "execution_count": 19,
   "metadata": {},
   "outputs": [],
   "source": [
    "# In[0]: IMPORT AND FUNCTIONS\n",
    "#region \n",
    "import pandas as pd\n",
    "import numpy as np\n",
    "import matplotlib.pyplot as plt\n",
    "from sklearn.base import BaseEstimator, TransformerMixin\n",
    "from sklearn.pipeline import FeatureUnion\n",
    "from sklearn.pipeline import Pipeline\n",
    "from sklearn.preprocessing import StandardScaler\n",
    "from sklearn.impute import SimpleImputer  \n",
    "from sklearn.preprocessing import OneHotEncoder      \n",
    "from sklearn.model_selection import KFold   \n",
    "from statistics import mean\n",
    "import joblib \n",
    "import os\n",
    "from xgboost import XGBRegressor\n",
    "from sklearn.model_selection import cross_val_score"
   ]
  },
  {
   "cell_type": "code",
   "execution_count": 20,
   "metadata": {},
   "outputs": [],
   "source": [
    "\n",
    "# In[2]: STEP 2. GET THE DATA (DONE). LOAD DATA\n",
    "datasets_folder = 'datasets'\n",
    "file_name = 'CarDetailsV3.csv'\n",
    "\n",
    "file_path = os.path.join(datasets_folder, file_name)\n",
    "\n",
    "raw_data = pd.read_csv(file_path)"
   ]
  },
  {
   "cell_type": "markdown",
   "metadata": {},
   "source": [
    "### Our label data is selling_price with the datatype int64. "
   ]
  },
  {
   "cell_type": "markdown",
   "metadata": {},
   "source": [
    "### Overview of the dataset:\n",
    "\n",
    "The car dataset provides details on second-hand cars, including specific information on each car, such as, the selling price, manufacturing and performance specifications as well as a few indicators of condition of the asset.\n",
    "\n",
    "The table above shows that there are 8128 rows, structured and organized in 13 columns, which each of them providing distinct characteristics of the tradeable asset. However, there are some missing values in engine, max_power, torque, seats that are needed to be dealt with to ensure the stability, consistency and reliability when the data is being processed later on."
   ]
  },
  {
   "cell_type": "markdown",
   "metadata": {},
   "source": [
    "### 1.3 Scatter plot between 2 features"
   ]
  },
  {
   "cell_type": "markdown",
   "metadata": {},
   "source": [
    "<b>Feature selections</b>\n",
    "- To approach this regression problem and focus on predicting the price, features that are suspected to have an impactful correlation raking from high to low:\n",
    "    1. Kilometers Driven (km_driven)\n",
    "    2. The year the car was produced (year)\n",
    "    3. Fuel consumption (fuel)\n"
   ]
  },
  {
   "cell_type": "code",
   "execution_count": 21,
   "metadata": {},
   "outputs": [
    {
     "name": "stdout",
     "output_type": "stream",
     "text": [
      "\n",
      "____________ Dataset info ____________\n",
      "<class 'pandas.core.frame.DataFrame'>\n",
      "RangeIndex: 8128 entries, 0 to 8127\n",
      "Data columns (total 13 columns):\n",
      " #   Column         Non-Null Count  Dtype  \n",
      "---  ------         --------------  -----  \n",
      " 0   name           8128 non-null   object \n",
      " 1   year           8128 non-null   int64  \n",
      " 2   selling_price  8128 non-null   int64  \n",
      " 3   km_driven      8128 non-null   int64  \n",
      " 4   fuel           8128 non-null   object \n",
      " 5   seller_type    8128 non-null   object \n",
      " 6   transmission   8128 non-null   object \n",
      " 7   owner          8128 non-null   object \n",
      " 8   mileage        7907 non-null   object \n",
      " 9   engine         7907 non-null   object \n",
      " 10  max_power      7913 non-null   object \n",
      " 11  torque         7906 non-null   object \n",
      " 12  seats          7907 non-null   float64\n",
      "dtypes: float64(1), int64(3), object(9)\n",
      "memory usage: 825.6+ KB\n",
      "None\n",
      "\n",
      "____________ Some first data examples ____________\n",
      "                           name  year  selling_price  km_driven    fuel  \\\n",
      "0        Maruti Swift Dzire VDI  2014         450000     145500  Diesel   \n",
      "1  Skoda Rapid 1.5 TDI Ambition  2014         370000     120000  Diesel   \n",
      "2      Honda City 2017-2020 EXi  2006         158000     140000  Petrol   \n",
      "\n",
      "  seller_type transmission         owner     mileage   engine   max_power  \\\n",
      "0  Individual       Manual   First Owner   23.4 kmpl  1248 CC      74 bhp   \n",
      "1  Individual       Manual  Second Owner  21.14 kmpl  1498 CC  103.52 bhp   \n",
      "2  Individual       Manual   Third Owner   17.7 kmpl  1497 CC      78 bhp   \n",
      "\n",
      "                  torque  seats  \n",
      "0         190Nm@ 2000rpm    5.0  \n",
      "1    250Nm@ 1500-2500rpm    5.0  \n",
      "2  12.7@ 2,700(kgm@ rpm)    5.0  \n",
      "\n",
      "____________ Counts on a feature of fuel ____________\n",
      "fuel\n",
      "Diesel    4402\n",
      "Petrol    3631\n",
      "CNG         57\n",
      "LPG         38\n",
      "Name: count, dtype: int64\n",
      "\n",
      "____________ Counts on a feature of seller_type ____________\n",
      "seller_type\n",
      "Individual          6766\n",
      "Dealer              1126\n",
      "Trustmark Dealer     236\n",
      "Name: count, dtype: int64\n",
      "\n",
      "____________ Counts on a feature of owner ____________\n",
      "owner\n",
      "First Owner             5289\n",
      "Second Owner            2105\n",
      "Third Owner              555\n",
      "Fourth & Above Owner     174\n",
      "Test Drive Car             5\n",
      "Name: count, dtype: int64\n",
      "\n",
      "____________ Statistics of numeric features ____________\n",
      "              year  selling_price     km_driven        seats\n",
      "count  8128.000000   8.128000e+03  8.128000e+03  7907.000000\n",
      "mean   2013.804011   6.382718e+05  6.981951e+04     5.416719\n",
      "std       4.044249   8.062534e+05  5.655055e+04     0.959588\n",
      "min    1983.000000   2.999900e+04  1.000000e+00     2.000000\n",
      "25%    2011.000000   2.549990e+05  3.500000e+04     5.000000\n",
      "50%    2015.000000   4.500000e+05  6.000000e+04     5.000000\n",
      "75%    2017.000000   6.750000e+05  9.800000e+04     5.000000\n",
      "max    2020.000000   1.000000e+07  2.360457e+06    14.000000\n",
      "\n",
      "____________ Get specific rows and cols ____________\n",
      "    selling_price seller_type\n",
      "0          450000  Individual\n",
      "5          440000  Individual\n",
      "48         700000      Dealer\n"
     ]
    }
   ],
   "source": [
    "# In[3]: STEP 3. DISCOVER THE DATA TO GAIN INSIGHTS\n",
    "#region\n",
    "# 3.1 Quick view of the data\n",
    "print('\\n____________ Dataset info ____________')\n",
    "print(raw_data.info())      \n",
    "print('\\n____________ Some first data examples ____________')\n",
    "print(raw_data.head(3)) \n",
    "print('\\n____________ Counts on a feature of fuel ____________')\n",
    "print(raw_data['fuel'].value_counts()) \n",
    "print('\\n____________ Counts on a feature of seller_type ____________')\n",
    "print(raw_data['seller_type'].value_counts()) \n",
    "print('\\n____________ Counts on a feature of owner ____________')\n",
    "print(raw_data['owner'].value_counts()) \n",
    "print('\\n____________ Statistics of numeric features ____________')\n",
    "print(raw_data.describe())   \n",
    "print('\\n____________ Get specific rows and cols ____________')     \n",
    "print(raw_data.iloc[[0,5,48], [2, 5]] ) # Refer using column ID "
   ]
  },
  {
   "cell_type": "code",
   "execution_count": 22,
   "metadata": {},
   "outputs": [
    {
     "data": {
      "image/png": "[encoded data removed]",
      "text/plain": [
       "<Figure size 1000x600 with 1 Axes>"
      ]
     },
     "metadata": {},
     "output_type": "display_data"
    },
    {
     "data": {
      "image/png": "[encoded data removed]",
      "text/plain": [
       "<Figure size 1000x500 with 4 Axes>"
      ]
     },
     "metadata": {},
     "output_type": "display_data"
    },
    {
     "name": "stdout",
     "output_type": "stream",
     "text": [
      "\n",
      " selling_price    1.000000\n",
      "year             0.414092\n",
      "seats            0.041358\n",
      "km_driven       -0.225534\n",
      "Name: selling_price, dtype: float64\n"
     ]
    }
   ],
   "source": [
    "# Plotting the distribution of the 'selling_price' feature\n",
    "plt.figure(figsize=(10, 6))\n",
    "plt.hist(raw_data['selling_price'], bins=50, edgecolor='black')\n",
    "plt.title('Distribution of Selling Price')\n",
    "plt.xlabel('Selling Price')\n",
    "plt.ylabel('Frequency')\n",
    "plt.grid(True)\n",
    "plt.show()\n",
    "\n",
    "# 3.5 Plotting histogram of numeric features\n",
    "\n",
    "raw_data.hist(figsize=(10,5))\n",
    "plt.rcParams['xtick.labelsize'] = 10\n",
    "plt.rcParams['ytick.labelsize'] = 10\n",
    "plt.tight_layout()\n",
    "plt.show()\n",
    "\n",
    "# 3.6 Compute correlations b/w features\n",
    "corr_matrix = raw_data.corr(numeric_only=True)\n",
    "print('\\n',corr_matrix[\"selling_price\"].sort_values(ascending=False))"
   ]
  },
  {
   "cell_type": "markdown",
   "metadata": {},
   "source": [
    "## B. Explanation and Analysis "
   ]
  },
  {
   "cell_type": "markdown",
   "metadata": {},
   "source": [
    "### <u>Relationship between selling_price and km_driven</u>"
   ]
  },
  {
   "cell_type": "code",
   "execution_count": 23,
   "metadata": {},
   "outputs": [
    {
     "data": {
      "image/png": "[encoded data removed]",
      "text/plain": [
       "<Figure size 1200x800 with 9 Axes>"
      ]
     },
     "metadata": {},
     "output_type": "display_data"
    }
   ],
   "source": [
    "# 3.3 Scatter plot b/w every pair of features\n",
    "from pandas.plotting import scatter_matrix   \n",
    "features_to_plot = [\"selling_price\", \"km_driven\", \"year\", \"fuel\"]\n",
    "scatter_matrix(raw_data[features_to_plot], figsize=(12, 8))\n",
    "plt.show()"
   ]
  },
  {
   "cell_type": "markdown",
   "metadata": {},
   "source": [
    "Most data lies in the bottom left corner. Most vehicles have been driven less than 50,000 units and the selling prices are between 0 to 600,000 units.\n",
    "Outliers of extremely high km_driven and extremely high prices are available.\n",
    "\n",
    "They have an negative linear correlation which indicates that as the amount of km_driven increases, the selling prices tend to decrease exponentially. This means that cars with high km_driven tend to be sold with a lower price."
   ]
  },
  {
   "cell_type": "markdown",
   "metadata": {},
   "source": [
    "### <u>Relationship between selling_price and year </u>"
   ]
  },
  {
   "cell_type": "code",
   "execution_count": 24,
   "metadata": {},
   "outputs": [
    {
     "data": {
      "image/png": "[encoded data removed]",
      "text/plain": [
       "<Figure size 640x480 with 1 Axes>"
      ]
     },
     "metadata": {},
     "output_type": "display_data"
    }
   ],
   "source": [
    "raw_data.plot(kind=\"scatter\", y=\"selling_price\", x=\"year\", alpha=0.2)\n",
    "plt.show()"
   ]
  },
  {
   "cell_type": "markdown",
   "metadata": {},
   "source": [
    "Most data lies at the bottom right of the plot. Most vehicles were produced before year 1995.\n",
    "\n",
    "They have a positive linear relationship which indicates as the production year increases, the price also increases. This means that newer cars are sold with higher prices."
   ]
  },
  {
   "cell_type": "markdown",
   "metadata": {},
   "source": [
    "### <u>Relationship between selling_price and fuel </u>"
   ]
  },
  {
   "cell_type": "code",
   "execution_count": 25,
   "metadata": {},
   "outputs": [
    {
     "data": {
      "image/png": "[encoded data removed]",
      "text/plain": [
       "<Figure size 640x480 with 1 Axes>"
      ]
     },
     "metadata": {},
     "output_type": "display_data"
    }
   ],
   "source": [
    "raw_data.plot(kind=\"scatter\", y=\"selling_price\", x=\"fuel\", alpha=0.2)\n",
    "plt.show()"
   ]
  },
  {
   "cell_type": "markdown",
   "metadata": {},
   "source": [
    "Most vehicles use Diesel and Petrol as their fuel which a minority of them use LPG and CNG.\n",
    "\n",
    "Diesel has the biggest spread with some cars reach the top selling prices. However, majority are still at the bottom with a low selling price.\n",
    "\n",
    "Petrol has one outlier with the highest selling price but the spread was less and data mostly lie at the lower price."
   ]
  },
  {
   "cell_type": "markdown",
   "metadata": {},
   "source": [
    "LPG and CNG have no outliers and data lies in the lower range which is below 100,000 units.\n",
    "\n",
    "Ranking from high to low selling price:\n",
    "1. Diesel\n",
    "2. Petrol\n",
    "3. CNG\n",
    "4. LPG\n",
    "\n",
    "### <u>Scatter plot between selling_price and other features</u>\n",
    "A few insights gain from this plot: <br>\n",
    "\n",
    "<b>About km_driven</b>\n",
    "* Very low km_driven vehicles (close to 0 km driven) seem to command a premium, with some of the highest prices in this category.\n",
    "* There are some very old vehicles ( before year 2000) with extremely low km_driven, which could be classic or collector cars.\n",
    "Conversely, there are some relatively new vehicles with unusually high km_driven, possibly indicating commercial use or long-distance drivers.\n",
    "\n",
    "<b>About year</b>\n",
    "* The highest frequency appears to be for the most recent years, from 2018 to 2020.\n",
    "* Recent cars before 2015 show a tight cluster of low km_driven, while older cars have a much wider spread of km_driven.\n",
    "\n",
    "<b>Distribution Histogram</b><br>\n",
    "<br>\n",
    "The highest frequency comes from vehicle with the selling price of 200,000 units and the lowest frequency is vehicle with the price of  500,000 units.\n",
    "Most vehicles lie between 0 to 2,000,000 units of selling price. Above 2,000,000 units, there are only few outliers.\n",
    "Tha majority of outliers are located in the approximate range of 300,000 units and 500,000 units.\n",
    "\n",
    "<b>Correlation coefficients between selling_price and other variables </b>\n",
    "\n",
    "1. selling_price to year (0.414092): <br>\n",
    "Moderate positive correlation which means higher year has higher selling prices.\n",
    "<br>\n",
    "2. selling_price to seat (0.041358): <br>\n",
    "Weak positive correlation which means number of seats has minimal relationship with selling price. However, more seats could slightly increase the price.\n",
    "<br>\n",
    "\n",
    "3. selling_price to km_driven (-0.22553): <br>\n",
    "Weak negative correlation which means higher km_driven has lower selling price. However, the correlation is quite weak so this cannot be taken as a trend.\n",
    "<br>\n",
    "\n",
    "\n",
    "\n",
    "#### <b> Generally: </b>\n",
    "year is the strongest predictor of selling price, while seats is the weakest factor.\n",
    "\n"
   ]
  },
  {
   "cell_type": "markdown",
   "metadata": {},
   "source": [
    "# II. Data Processing:"
   ]
  },
  {
   "cell_type": "markdown",
   "metadata": {},
   "source": [
    "### 1. Handling missing values"
   ]
  },
  {
   "cell_type": "markdown",
   "metadata": {},
   "source": [
    "Our chosen dataset on cars is very complete with few missing values. In order to fill in the remaining missing numbers of the data, we will be using the imputation method.\n",
    "\n",
    "- 'SimpleImputer' will handle the imputation process in the pipeline and fill in the missing values based on chosen parameters. The parameters are:\n",
    "    + (missing_values = np.nan) -> Any not a Number (nan) will be considered as missing values.\n",
    "    + (strategy = \"constant\") -> The missing values will be replaced with a constant value.\n",
    "    + (fill_value = \"NO INFO\") -> If missing values are detected, they will be replaced with the string \"NO INFO\".\n",
    "    + (copy = true) -> This will ensure only the copy of the data will be modified, preventing modification on original data.\n",
    "\n",
    "- Benefits of imputation:\n",
    "    + Ensures that the model will not crash due to missing values as they are replaced with either a default value or a placeholder.\n",
    "    + Imputation also allows car records to be retained with missing values such as missing mileage, torque, engine, and ensuring that they will not be discarded due to missing data.\n",
    "\n",
    "- Afterwards, all the filled in values along with the copied version of the original car data will be passed onto 'OneHotEncoder' for encoding.\n"
   ]
  },
  {
   "cell_type": "markdown",
   "metadata": {},
   "source": [
    "### 2. Identify and handle outliers"
   ]
  },
  {
   "cell_type": "markdown",
   "metadata": {},
   "source": [
    "Through visualizing our data, we noticed a few outliers, which their selling prices are almost doubled the ones that are just below them. As a result, after thorough research on the second hand car markets, we concluded that they are anomalies and implemented Interquartile Range (IQR) to eliminate them. \n",
    "\n",
    "- Firstly, we use 4th percentile (0.04) and 96th percentile (0.96) instead of the traditional 25th percentile (0.25) and 75th percentile (0.75). Hence, a broader middle range of car selling prices will be defined.\n",
    "\n",
    "- Secondly, since there are few outliers, the percentiles we are using will eliminate all the lowest extreme values as well as the highest extreme values.\n",
    "\n",
    "- Benefits of using Interquartile Range (IQR):\n",
    "    + IQR helps detect outliers without being affected by them, unlike other measures such as mean or standard deviation.\n",
    "\n",
    "    + The method also helps eliminate outliers that exceeded the reasonable range for both lower bounds and higher bounds of the selling price, where they are considered as unreasonably overpriced or underpriced.\n",
    "\n",
    "    + Finally, the IQR method focuses on only the middle range of the car prices, providing and emphasizing a better representation of the overall selling prices of cars.\n",
    "\n",
    "- After removing the outliers, our raw data will become filtered data and stored in the variable 'filtered_data'."
   ]
  },
  {
   "cell_type": "code",
   "execution_count": 26,
   "metadata": {},
   "outputs": [
    {
     "name": "stdout",
     "output_type": "stream",
     "text": [
      "<class 'pandas.core.frame.DataFrame'>\n",
      "RangeIndex: 8128 entries, 0 to 8127\n",
      "Data columns (total 12 columns):\n",
      " #   Column         Non-Null Count  Dtype  \n",
      "---  ------         --------------  -----  \n",
      " 0   year           8128 non-null   int64  \n",
      " 1   selling_price  8128 non-null   int64  \n",
      " 2   km_driven      8128 non-null   int64  \n",
      " 3   fuel           8128 non-null   object \n",
      " 4   seller_type    8128 non-null   object \n",
      " 5   transmission   8128 non-null   object \n",
      " 6   owner          8128 non-null   object \n",
      " 7   mileage        7907 non-null   object \n",
      " 8   engine         7907 non-null   object \n",
      " 9   max_power      7913 non-null   object \n",
      " 10  torque         7906 non-null   object \n",
      " 11  seats          7907 non-null   float64\n",
      "dtypes: float64(1), int64(3), object(8)\n",
      "memory usage: 762.1+ KB\n"
     ]
    }
   ],
   "source": [
    "# In[4]: STEP 4. PREPARE THE DATA \n",
    "#region\n",
    "# 4.1 Remove unused features\n",
    "if \"name\" in raw_data.columns:\n",
    "    raw_data.drop(columns=[\"name\"], inplace=True)\n",
    "\n",
    "raw_data.info()\n",
    "\n",
    "# 4.1.1 Removing extreme outliers of lower and higher boundaries\n",
    "\n",
    "Q1 = raw_data['selling_price'].quantile(0.04)\n",
    "Q3 = raw_data['selling_price'].quantile(0.96)\n",
    "IQR = Q3 - Q1\n",
    "\n",
    "# Define a threshold for what counts as an outlier (usually 1.5 times the IQR)\n",
    "threshold = 1.5\n",
    "\n",
    "# Remove outliers\n",
    "filtered_data = raw_data[(raw_data['selling_price'] >= Q1 - threshold * IQR) & \n",
    "                         (raw_data['selling_price'] <= Q3 + threshold * IQR)]"
   ]
  },
  {
   "cell_type": "markdown",
   "metadata": {},
   "source": [
    "### 3. Encode categorical features"
   ]
  },
  {
   "cell_type": "markdown",
   "metadata": {},
   "source": [
    "Our group has decided to choose 'fuel', 'seller_type' and 'owner' as our categorical features for encoding. \n",
    "- A list 'cat_feat_names' has been created to store these columns as specified feature type. The list will be utililzed along with 'OneHotEncoder' functions to process and analyze."
   ]
  },
  {
   "cell_type": "markdown",
   "metadata": {},
   "source": [
    "### 4. Split dataset into training and testing data"
   ]
  },
  {
   "cell_type": "markdown",
   "metadata": {},
   "source": [
    "For our car dataset, we will be spliting the data into a training-test set (train_set), and testing set (test_set). The 'test_set' will be not utilized until testing phase, which will be after <b>Hyperparamter Fine-tuning</b> part of the program.\n",
    "\n",
    "- Stratified sampling: This method will be used to ensure the proportions of the specific categories, in this case is our selling price, are maintained in both the training set and test set.\n",
    "\n",
    "- Benefits of stratfied sampling: \n",
    "    + Proportional representation: If there is a significant amount of low selling price cars in the list, for example, between 200000 and 400000, then this ensures that the different selling price ranges are represented proportionally. Otherwise, imbalanced frequencies of car selling prices in the dataset can lead to biased results, either being over-represented or under-represented.\n",
    "    \n",
    "    + More reliable evaluation metrics: With stratified sampling, later on, when we are using our test data and the trained data to evaluate the model, the applied metrics are more reliable, preventing misleading performances due to imbalanced representation of each selling price categories.\n",
    "\n",
    "- Five bins are formed when cutting the selling prices along with boundaries:\n",
    "    + 0 to 200,000\n",
    "    + 200,000 to 400,000\n",
    "    + 400,000 to 600,000\n",
    "    + 600,000 to 800,000\n",
    "    + 800,000 to infinity (hence, np.inf)\n",
    "\n",
    "- Labels (2, 4, 6, 8, 10) are assigned to each bins for easier and simpler plotting and classification later on.\n",
    "\n",
    "- We will be creating single one train-test split, with the test size being 12.5% (approximately 1000 records), and 87.5% for the training data size.\n",
    "\n",
    "- Lastly, 'iloc' method is used along with the 'filtered_data' to create the 'train_set' and 'test_set'."
   ]
  },
  {
   "cell_type": "code",
   "execution_count": 27,
   "metadata": {},
   "outputs": [
    {
     "name": "stderr",
     "output_type": "stream",
     "text": [
      "C:\\Users\\herom\\AppData\\Local\\Temp\\ipykernel_29852\\3741919711.py:7: SettingWithCopyWarning: \n",
      "A value is trying to be set on a copy of a slice from a DataFrame.\n",
      "Try using .loc[row_indexer,col_indexer] = value instead\n",
      "\n",
      "See the caveats in the documentation: https://pandas.pydata.org/pandas-docs/stable/user_guide/indexing.html#returning-a-view-versus-a-copy\n",
      "  filtered_data.loc[:, \"SELLING PRICE RANGE\"] = pd.cut(filtered_data[\"selling_price\"],\n"
     ]
    },
    {
     "data": {
      "image/png": "[encoded data removed]",
      "text/plain": [
       "<Figure size 500x500 with 1 Axes>"
      ]
     },
     "metadata": {},
     "output_type": "display_data"
    },
    {
     "name": "stdout",
     "output_type": "stream",
     "text": [
      "\n",
      "____________ Split training and test set ____________\n",
      "7108 training + 1016 test examples\n",
      "      year  selling_price  km_driven    fuel seller_type transmission  \\\n",
      "1538  2012         550000      83000  Petrol  Individual       Manual   \n",
      "7275  2009         155000      63000  Petrol  Individual       Manual   \n",
      "4418  2019        3800000      20000  Diesel  Individual    Automatic   \n",
      "7105  2012         170000      90000  Petrol  Individual       Manual   \n",
      "\n",
      "            owner     mileage   engine  max_power          torque  seats  \\\n",
      "1538  First Owner   16.8 kmpl  1497 CC  116.3 bhp  146Nm@ 4800rpm    5.0   \n",
      "7275  Third Owner         NaN      NaN        NaN             NaN    NaN   \n",
      "4418  First Owner   18.0 kmpl  1969 CC    190 bhp           400Nm    5.0   \n",
      "7105  Third Owner  20.92 kmpl   998 CC   67.1 bhp   90Nm@ 3500rpm    5.0   \n",
      "\n",
      "     SELLING PRICE RANGE  \n",
      "1538                   6  \n",
      "7275                   2  \n",
      "4418                  10  \n",
      "7105                   2  \n",
      "[array(['CNG', 'Diesel', 'LPG', 'Petrol'], dtype=object), array(['Dealer', 'Individual', 'Trustmark Dealer'], dtype=object), array(['First Owner', 'Fourth & Above Owner', 'Second Owner',\n",
      "       'Test Drive Car', 'Third Owner'], dtype=object)]\n",
      "['fuel_CNG' 'fuel_Diesel' 'fuel_LPG' 'fuel_Petrol' 'seller_type_Dealer'\n",
      " 'seller_type_Individual' 'seller_type_Trustmark Dealer'\n",
      " 'owner_First Owner' 'owner_Fourth & Above Owner' 'owner_Second Owner'\n",
      " 'owner_Test Drive Car' 'owner_Third Owner']\n",
      "No. of one-hot columns: 12\n",
      "[[0. 0. 0. 1. 0. 1. 0. 1. 0. 0. 0. 0.]\n",
      " [0. 0. 0. 1. 0. 1. 0. 0. 0. 0. 0. 1.]\n",
      " [0. 1. 0. 0. 0. 1. 0. 1. 0. 0. 0. 0.]]\n",
      "\n",
      "____________ Processed feature values ____________\n",
      "[[-0.43844215  0.23858693 -0.43003678  0.          0.          0.\n",
      "   1.          0.          1.          0.          1.          0.\n",
      "   0.          0.          0.        ]\n",
      " [-1.17857358 -0.1252588  -0.43003678  0.          0.          0.\n",
      "   1.          0.          1.          0.          0.          0.\n",
      "   0.          0.          1.        ]\n",
      " [ 1.28853121 -0.90752711 -0.43003678  0.          1.          0.\n",
      "   0.          0.          1.          0.          1.          0.\n",
      "   0.          0.          0.        ]]\n",
      "(7108, 15)\n",
      "We have 3 numeric feature + 1 added features + 35 cols of onehotvector for categorical features.\n"
     ]
    },
    {
     "data": {
      "text/plain": [
       "['models/full_pipeline.pkl']"
      ]
     },
     "execution_count": 27,
     "metadata": {},
     "output_type": "execute_result"
    }
   ],
   "source": [
    "#%% 4.2 Split training-test set and NEVER touch test set until test phase\n",
    "import pandas as pd\n",
    "\n",
    "# Stratified sampling method\n",
    "\n",
    "# Create new feature \"PRICE RANGE\": the distribution we want to remain\n",
    "filtered_data.loc[:, \"SELLING PRICE RANGE\"] = pd.cut(filtered_data[\"selling_price\"],\n",
    "                                    bins=[0, 200000, 400000, 600000, 800000, np.inf],\n",
    "                                    labels=[2,4,6,8,10]) \n",
    "    \n",
    "# Create training set and test set\n",
    "from sklearn.model_selection import StratifiedShuffleSplit  \n",
    "splitter = StratifiedShuffleSplit(n_splits=1, test_size=0.125, random_state=42)\n",
    "                                                                                  \n",
    "for train_index, test_index in splitter.split(filtered_data, filtered_data[\"SELLING PRICE RANGE\"]):\n",
    "    train_set = filtered_data.iloc[train_index]\n",
    "    test_set = filtered_data.iloc[test_index]              \n",
    "    \n",
    "# See if it worked as expected\n",
    "if 1:\n",
    "    filtered_data[\"SELLING PRICE RANGE\"].hist(bins=6, figsize=(5,5))\n",
    "    train_set[\"SELLING PRICE RANGE\"].hist(bins=6, figsize=(5,5)); plt.show()\n",
    "\n",
    "# Remove the new feature\n",
    "for _set_ in (train_set, test_set):\n",
    "    _set_ = _set_.drop(columns=\"SELLING PRICE RANGE\")\n",
    "\n",
    "print('\\n____________ Split training and test set ____________')     \n",
    "print(len(train_set), \"training +\", len(test_set), \"test examples\")\n",
    "print(train_set.head(4))\n",
    "\n",
    "#%% 4.3 Separate labels from data, since we do not process label values\n",
    "train_set_labels = train_set[\"selling_price\"].copy()\n",
    "train_set = train_set.drop(columns = \"selling_price\") \n",
    "test_set_labels = test_set[\"selling_price\"].copy()\n",
    "test_set = test_set.drop(columns = \"selling_price\") \n",
    "\n",
    "#%% 4.4 Define pipelines for processing data. \n",
    "\n",
    "# 4.4.1 Define ColumnSelector: a transformer for choosing columns\n",
    "class ColumnSelector(BaseEstimator, TransformerMixin):\n",
    "    def __init__(self, feature_names):\n",
    "        self.feature_names = feature_names\n",
    "    def fit(self, dataframe, labels=None):\n",
    "        return self\n",
    "    def transform(self, dataframe):\n",
    "        return dataframe[self.feature_names].values         \n",
    "\n",
    "num_feat_names = ['year', 'km_driven', 'seats'] \n",
    "cat_feat_names = ['fuel', 'seller_type', 'owner'] \n",
    "\n",
    "# 4.4.2 Pipeline for categorical features\n",
    "cat_pipeline = Pipeline ([\n",
    "    ('selector', ColumnSelector(cat_feat_names)),\n",
    "    ('imputer', SimpleImputer(missing_values=np.nan, strategy=\"constant\", fill_value = \"NO INFO\", copy=True)), # Complete missing values\n",
    "    ('cat_encoder', OneHotEncoder()) # Convert categorical data into one-hot vectors\n",
    "])    \n",
    "\n",
    "# Applying the pipeline and get transformed feature values\n",
    "trans_feat_values_1 = cat_pipeline.fit_transform(train_set)\n",
    "\n",
    "one_hot_encoder = cat_pipeline.named_steps['cat_encoder']\n",
    " \n",
    "# See the encoded features\n",
    "print(one_hot_encoder.categories_)\n",
    "print(one_hot_encoder.get_feature_names_out(cat_feat_names))\n",
    "print(\"No. of one-hot columns: \" + str(one_hot_encoder.get_feature_names_out(cat_feat_names).shape[0]))\n",
    "print(trans_feat_values_1[[0,1,2],:].toarray())\n",
    "\n",
    "# 4.4.4 Pipeline for numerical features\n",
    "num_pipeline = Pipeline ([\n",
    "    ('selector', ColumnSelector(num_feat_names)),\n",
    "    ('imputer', SimpleImputer(missing_values=np.nan, strategy=\"median\", copy=True)),\n",
    "    ('std_scaler', StandardScaler(with_mean=True, with_std=True, copy=True))\n",
    "])  \n",
    "  \n",
    "# 4.4.5 Combine features transformed by two above pipelines\n",
    "full_pipeline = FeatureUnion(transformer_list=[\n",
    "    (\"num_pipeline\", num_pipeline),\n",
    "    (\"cat_pipeline\", cat_pipeline) ])  \n",
    "\n",
    "# 4.5 Run the pipeline to process training data           \n",
    "processed_train_set_val = full_pipeline.fit_transform(train_set)\n",
    "print('\\n____________ Processed feature values ____________')\n",
    "print(processed_train_set_val[[0, 1, 2],:].toarray())\n",
    "print(processed_train_set_val.shape)\n",
    "print('We have %d numeric feature + 1 added features + 35 cols of onehotvector for categorical features.' %(len(num_feat_names)))\n",
    "\n",
    "# Create the 'models/' directory if it doesn't exist\n",
    "os.makedirs('models', exist_ok=True)\n",
    "joblib.dump(full_pipeline, r'models/full_pipeline.pkl')"
   ]
  },
  {
   "cell_type": "markdown",
   "metadata": {},
   "source": [
    "# III. Model Training and Evaluation:"
   ]
  },
  {
   "cell_type": "markdown",
   "metadata": {},
   "source": [
    "In this project, there are 7 models: \n",
    "- Linear Regression model\n",
    "- Decision Tree Regressor model\n",
    "- Random Forest Regressor model\n",
    "- Polinomial Regression model\n",
    "- Support Vector Regression (SVR)\n",
    "- Gradient Boosting Regressor \n",
    "- XGBoost Regressor"
   ]
  },
  {
   "cell_type": "markdown",
   "metadata": {},
   "source": [
    "Besides, each model will be evaluated by 2 performance measures, which are R2-score and Root Mean Squared Error (RMSE)"
   ]
  },
  {
   "cell_type": "code",
   "execution_count": 28,
   "metadata": {},
   "outputs": [
    {
     "name": "stdout",
     "output_type": "stream",
     "text": [
      "\n",
      "Input data: \n",
      "       year  km_driven    fuel seller_type transmission         owner  \\\n",
      "1538  2012      83000  Petrol  Individual       Manual   First Owner   \n",
      "7275  2009      63000  Petrol  Individual       Manual   Third Owner   \n",
      "4418  2019      20000  Diesel  Individual    Automatic   First Owner   \n",
      "7105  2012      90000  Petrol  Individual       Manual   Third Owner   \n",
      "3935  2018       5000  Petrol  Individual       Manual   First Owner   \n",
      "1823  2013      52000  Diesel  Individual       Manual   First Owner   \n",
      "3821  2012     120000  Diesel  Individual       Manual  Second Owner   \n",
      "1905  2018      35000  Petrol  Individual       Manual   First Owner   \n",
      "4109  2018       8000  Petrol  Individual    Automatic  Second Owner   \n",
      "\n",
      "         mileage   engine  max_power               torque  seats  \\\n",
      "1538   16.8 kmpl  1497 CC  116.3 bhp       146Nm@ 4800rpm    5.0   \n",
      "7275         NaN      NaN        NaN                  NaN    NaN   \n",
      "4418   18.0 kmpl  1969 CC    190 bhp                400Nm    5.0   \n",
      "7105  20.92 kmpl   998 CC   67.1 bhp        90Nm@ 3500rpm    5.0   \n",
      "3935  20.51 kmpl   998 CC  67.04 bhp        90Nm@ 3500rpm    5.0   \n",
      "1823  17.21 kmpl  1493 CC    100 bhp  240Nm@ 1600-2800rpm    7.0   \n",
      "3821  12.05 kmpl  2179 CC    120 bhp  290Nm@ 1800-2800rpm    8.0   \n",
      "1905  23.01 kmpl   999 CC     67 bhp        91Nm@ 4250rpm    5.0   \n",
      "4109  20.51 kmpl   998 CC     67 bhp        90Nm@ 3500rpm    5.0   \n",
      "\n",
      "     SELLING PRICE RANGE  \n",
      "1538                   6  \n",
      "7275                   2  \n",
      "4418                  10  \n",
      "7105                   2  \n",
      "3935                   6  \n",
      "1823                   6  \n",
      "3821                   6  \n",
      "1905                   6  \n",
      "4109                   6  \n"
     ]
    }
   ],
   "source": [
    "# In[5]: STEP 5. TRAIN AND EVALUATE MODELS \n",
    "#region\n",
    "\n",
    "# 5.1.2 Compute R2 score and root mean squared error\n",
    "def r2score_and_rmse(model, train_data, labels): \n",
    "    r2score = model.score(train_data, labels)\n",
    "    from sklearn.metrics import mean_squared_error\n",
    "    prediction = model.predict(train_data)\n",
    "    mse = mean_squared_error(labels, prediction)\n",
    "    rmse = np.sqrt(mse)\n",
    "    return r2score, rmse \n",
    "\n",
    "# 5.1.4 Store models to files, to compare latter\n",
    "import joblib\n",
    "\n",
    "def store_model(model, model_name = \"\"):\n",
    "    # NOTE: sklearn.joblib faster than pickle of Python\n",
    "    if model_name == \"\": \n",
    "        model_name = type(model).__name__\n",
    "    joblib.dump(model,'models/' + model_name + '_model.pkl')\n",
    "\n",
    "def load_model(model_name):\n",
    "    # Load objects into memory\n",
    "    model = joblib.load('models/' + model_name + '_model.pkl')\n",
    "    return model\n",
    "\n",
    "print(\"\\nInput data: \\n\", train_set.iloc[0:9])"
   ]
  },
  {
   "cell_type": "markdown",
   "metadata": {},
   "source": [
    "## A. Model Training"
   ]
  },
  {
   "cell_type": "markdown",
   "metadata": {},
   "source": [
    "### 1. Linear Regression model"
   ]
  },
  {
   "cell_type": "code",
   "execution_count": 29,
   "metadata": {},
   "outputs": [
    {
     "name": "stdout",
     "output_type": "stream",
     "text": [
      "\n",
      "____________ LinearRegression ____________\n",
      "Learned parameters:  [ 226130.1779269   -80001.82331724   23290.51571795 -158731.80287499\n",
      "  244477.4221431   -14393.65717321  -71351.96209509  392661.43582146\n",
      " -307099.54227754  -85561.89354423 -320721.56344534 -254589.64368087\n",
      " -371143.22551183 1236931.66238557 -290477.2297477 ] 1064668.1623810004\n",
      "\n",
      "R2 score (on training data, best=1): 0.31854629064478646\n",
      "Root Mean Square Error:  646777.6\n",
      "\n",
      "Predictions:  [ 237246.9  129233.5 1035288.3  257303.3  685501.5  702744.6  521946.9\n",
      "  641839.   630713.6]\n",
      "Labels:       [550000, 155000, 3800000, 170000, 459999, 450000, 575000, 409999, 509999]\n"
     ]
    }
   ],
   "source": [
    "\n",
    "# 5.1 Try Linear Regression model\n",
    "\n",
    "# Training: Learn a linear regression hypothesis using training data\n",
    "from sklearn.linear_model import LinearRegression\n",
    "model = LinearRegression()\n",
    "model.fit(processed_train_set_val, train_set_labels)\n",
    "print('\\n____________ LinearRegression ____________')\n",
    "print('Learned parameters: ', model.coef_, model.intercept_)\n",
    "     \n",
    "# Compute R2 score and root mean squared error\n",
    "r2score, rmse = r2score_and_rmse(model, processed_train_set_val, train_set_labels)\n",
    "print('\\nR2 score (on training data, best=1):', r2score)\n",
    "print(\"Root Mean Square Error: \", rmse.round(decimals=1))\n",
    "        \n",
    "# Predict labels for some training instances\n",
    "print(\"\\nPredictions: \", model.predict(processed_train_set_val[0:9]).round(decimals=1))\n",
    "print(\"Labels:      \", list(train_set_labels[0:9]))\n",
    "store_model(model)"
   ]
  },
  {
   "cell_type": "markdown",
   "metadata": {},
   "source": [
    "### 2. Decision Tree Regressor model"
   ]
  },
  {
   "cell_type": "code",
   "execution_count": 30,
   "metadata": {},
   "outputs": [
    {
     "name": "stdout",
     "output_type": "stream",
     "text": [
      "\n",
      "____________ DecisionTreeRegressor ____________\n",
      "\n",
      "R2 score (on training data, best=1): 0.9345873599839617\n",
      "Root Mean Square Error:  200386.1\n",
      "\n",
      "Predictions:  [ 500000.   155000.  3214242.4  192500.   626999.9  450000.   712500.\n",
      "  499545.3  509999. ]\n",
      "Labels:       [550000, 155000, 3800000, 170000, 459999, 450000, 575000, 409999, 509999]\n"
     ]
    }
   ],
   "source": [
    "#%% 5.2 Try Decision Tree Regressor model\n",
    "\n",
    "# Training\n",
    "from sklearn.tree import DecisionTreeRegressor\n",
    "model = DecisionTreeRegressor()\n",
    "model.fit(processed_train_set_val, train_set_labels)\n",
    "\n",
    "# Compute R2 score and root mean squared error\n",
    "print('\\n____________ DecisionTreeRegressor ____________')\n",
    "r2score, rmse = r2score_and_rmse(model, processed_train_set_val, train_set_labels)\n",
    "print('\\nR2 score (on training data, best=1):', r2score)\n",
    "print(\"Root Mean Square Error: \", rmse.round(decimals=1))\n",
    "store_model(model)\n",
    "\n",
    "# Predict labels for some training instances\n",
    "print(\"\\nPredictions: \", model.predict(processed_train_set_val[0:9]).round(decimals=1))\n",
    "print(\"Labels:      \", list(train_set_labels[0:9]))"
   ]
  },
  {
   "cell_type": "markdown",
   "metadata": {},
   "source": [
    "### 3. Random Forest Regressor model"
   ]
  },
  {
   "cell_type": "code",
   "execution_count": 31,
   "metadata": {},
   "outputs": [
    {
     "name": "stdout",
     "output_type": "stream",
     "text": [
      "\n",
      "____________ RandomForestRegressor ____________\n",
      "\n",
      "R2 score (on training data, best=1): 0.9032754640483366\n",
      "Root Mean Square Error:  243671.7\n",
      "\n",
      "Predictions:  [ 499750.   163428.6 3295565.3  193200.   655048.5  460000.   767500.\n",
      "  489733.1  631545.3]\n",
      "Labels:       [550000, 155000, 3800000, 170000, 459999, 450000, 575000, 409999, 509999]\n"
     ]
    }
   ],
   "source": [
    "#%% 5.3 Try RandomForestRegressor model\n",
    "\n",
    "# Training (NOTE: may take time if train_set is large)\n",
    "from sklearn.ensemble import RandomForestRegressor\n",
    "model = RandomForestRegressor(n_estimators = 5) # n_estimators: no. of trees\n",
    "model.fit(processed_train_set_val, train_set_labels)\n",
    "\n",
    "# Compute R2 score and root mean squared error\n",
    "print('\\n____________ RandomForestRegressor ____________')\n",
    "r2score, rmse = r2score_and_rmse(model, processed_train_set_val, train_set_labels)\n",
    "print('\\nR2 score (on training data, best=1):', r2score)\n",
    "print(\"Root Mean Square Error: \", rmse.round(decimals=1))\n",
    "store_model(model)      \n",
    "\n",
    "# Predict labels for some training instances\n",
    "print(\"\\nPredictions: \", model.predict(processed_train_set_val[0:9]).round(decimals=1))\n",
    "print(\"Labels:      \", list(train_set_labels[0:9]))"
   ]
  },
  {
   "cell_type": "markdown",
   "metadata": {},
   "source": [
    "### 4. Polinomial Regression model"
   ]
  },
  {
   "cell_type": "code",
   "execution_count": 32,
   "metadata": {},
   "outputs": [
    {
     "name": "stdout",
     "output_type": "stream",
     "text": [
      "\n",
      "____________ Polinomial regression ____________\n",
      "\n",
      "R2 score (on training data, best=1): 0.4764694262883312\n",
      "Root Mean Square Error:  566901.7\n",
      "\n",
      "Predictions:  [ 212919.9  118642.7 1291225.7  204563.7  657732.2  678985.4  549801.3\n",
      "  586606.1  588664.8]\n",
      "Labels:       [550000, 155000, 3800000, 170000, 459999, 450000, 575000, 409999, 509999]\n"
     ]
    }
   ],
   "source": [
    "#%% 5.4 Try polinomial regression model\n",
    "\n",
    "# Training. NOTE: May take a while \n",
    "from sklearn.preprocessing import PolynomialFeatures\n",
    "poly_feat_adder = PolynomialFeatures(degree = 2) # add high-degree features to the data\n",
    "train_set_poly_added = poly_feat_adder.fit_transform(processed_train_set_val)\n",
    "new_training = 10\n",
    "if new_training:\n",
    "    model = LinearRegression()\n",
    "    model.fit(train_set_poly_added, train_set_labels)\n",
    "    store_model(model, model_name = \"PolinomialRegression\")      \n",
    "else:\n",
    "    model = load_model(\"PolinomialRegression\")\n",
    "\n",
    "# Compute R2 score and root mean squared error\n",
    "print('\\n____________ Polinomial regression ____________')\n",
    "r2score, rmse = r2score_and_rmse(model, train_set_poly_added, train_set_labels)\n",
    "print('\\nR2 score (on training data, best=1):', r2score)\n",
    "print(\"Root Mean Square Error: \", rmse.round(decimals=1))\n",
    "\n",
    "# Predict labels for some training instances\n",
    "print(\"\\nPredictions: \", model.predict(train_set_poly_added[0:9]).round(decimals=1))\n",
    "print(\"Labels:      \", list(train_set_labels[0:9]))"
   ]
  },
  {
   "cell_type": "markdown",
   "metadata": {},
   "source": [
    "### 5. Support Vector Regression "
   ]
  },
  {
   "cell_type": "code",
   "execution_count": 33,
   "metadata": {},
   "outputs": [
    {
     "name": "stdout",
     "output_type": "stream",
     "text": [
      "\n",
      "____________ Support Vector Regression (SVR) ________\n",
      "\n",
      "R2 score (on training data, best=1): -0.053772885554340455\n",
      "Root Mean Square Error:  804285.6\n",
      "\n",
      "Predictions:  [449172.  448900.4 450416.  449058.  450113.7 450048.7 449815.3 450072.8\n",
      " 449833.7]\n",
      "Labels:       [550000, 155000, 3800000, 170000, 459999, 450000, 575000, 409999, 509999]\n"
     ]
    }
   ],
   "source": [
    "#%% 5.5 Support Vector Regression (SVR)\n",
    "\n",
    "# Training.\n",
    "from sklearn.svm import SVR\n",
    "model = SVR(kernel='rbf')\n",
    "model.fit(processed_train_set_val, train_set_labels)\n",
    "\n",
    "# Compute R2 score and root mean squared error\n",
    "print('\\n____________ Support Vector Regression (SVR) ________')\n",
    "r2score, rmse = r2score_and_rmse(model, processed_train_set_val, train_set_labels)\n",
    "print('\\nR2 score (on training data, best=1):', r2score)\n",
    "print(\"Root Mean Square Error: \", rmse.round(decimals=1))\n",
    "store_model(model)\n",
    "\n",
    "# Predict labels for some training instances\n",
    "predictions = model.predict(processed_train_set_val[0:9]).round(decimals=1)\n",
    "print(\"\\nPredictions: \", predictions)\n",
    "print(\"Labels:      \", list(train_set_labels[0:9]))"
   ]
  },
  {
   "cell_type": "markdown",
   "metadata": {},
   "source": [
    "### 6. Gradient Boosting Regressor"
   ]
  },
  {
   "cell_type": "code",
   "execution_count": 34,
   "metadata": {},
   "outputs": [
    {
     "name": "stdout",
     "output_type": "stream",
     "text": [
      "\n",
      "____________ Gradient Boosting Regressor ________\n",
      "\n",
      "R2 score (on training data, best=1): 0.7358424145097193\n",
      "Root Mean Square Error:  402687.6\n",
      "\n",
      "Predictions:  [ 233596.2  157901.1 2486159.2  224523.1  613488.   674932.2  477160.2\n",
      "  495371.3  597786.4]\n",
      "Labels:       [550000, 155000, 3800000, 170000, 459999, 450000, 575000, 409999, 509999]\n"
     ]
    }
   ],
   "source": [
    "#%% 5.6 Gradient Boosting Regressor \n",
    "\n",
    "# Training.\n",
    "from sklearn.ensemble import GradientBoostingRegressor\n",
    "model = GradientBoostingRegressor(n_estimators=100, learning_rate=0.1)\n",
    "model.fit(processed_train_set_val, train_set_labels)\n",
    "\n",
    "# Compute R2 score and root mean squared error\n",
    "print('\\n____________ Gradient Boosting Regressor ________')\n",
    "r2score, rmse = r2score_and_rmse(model, processed_train_set_val, train_set_labels)\n",
    "print('\\nR2 score (on training data, best=1):', r2score)\n",
    "print(\"Root Mean Square Error: \", rmse.round(decimals=1))\n",
    "store_model(model)\n",
    "\n",
    "# Predict labels for some training instances\n",
    "predictions = model.predict(processed_train_set_val[0:9]).round(decimals=1)\n",
    "print(\"\\nPredictions: \", predictions)\n",
    "print(\"Labels:      \", list(train_set_labels[0:9]))"
   ]
  },
  {
   "cell_type": "markdown",
   "metadata": {},
   "source": [
    "### 7. XGBoost Regressor"
   ]
  },
  {
   "cell_type": "code",
   "execution_count": 35,
   "metadata": {},
   "outputs": [
    {
     "name": "stdout",
     "output_type": "stream",
     "text": [
      "\n",
      "____________ XGBoost Regressor ________\n",
      "\n",
      "R2 score (on training data, best=1): 0.8471362590789795\n",
      "Root Mean Square Error:  306329.6\n",
      "\n",
      "Predictions:  [ 277260.   183546.3 3032878.   259578.8  667976.3  700138.6  488599.4\n",
      "  509888.   577835. ]\n",
      "Labels:       [550000, 155000, 3800000, 170000, 459999, 450000, 575000, 409999, 509999]\n"
     ]
    }
   ],
   "source": [
    "#%% 5.7 XGBoost Regressor\n",
    "from xgboost import XGBRegressor\n",
    "model = XGBRegressor(n_estimators=100, learning_rate=0.1)\n",
    "model.fit(processed_train_set_val, train_set_labels)\n",
    "\n",
    "# Compute R2 score and root mean squared error\n",
    "print('\\n____________ XGBoost Regressor ________')\n",
    "r2score, rmse = r2score_and_rmse(model, processed_train_set_val, train_set_labels)\n",
    "print('\\nR2 score (on training data, best=1):', r2score)\n",
    "print(\"Root Mean Square Error: \", rmse.round(decimals=1))\n",
    "store_model(model)\n",
    "\n",
    "# Predict labels for some training instances\n",
    "predictions = model.predict(processed_train_set_val[0:9]).round(decimals=1)\n",
    "print(\"\\nPredictions: \", predictions)\n",
    "print(\"Labels:      \", list(train_set_labels[0:9]))"
   ]
  },
  {
   "cell_type": "markdown",
   "metadata": {},
   "source": [
    "## B. Evaluation"
   ]
  },
  {
   "cell_type": "markdown",
   "metadata": {},
   "source": [
    "### K-fold cross validation will be applied to evaluate"
   ]
  },
  {
   "cell_type": "code",
   "execution_count": 36,
   "metadata": {},
   "outputs": [
    {
     "name": "stdout",
     "output_type": "stream",
     "text": [
      "\n",
      "____________ K-fold cross validation ________\n",
      "LinearRegression rmse:  [626681.2 650217.8 635275.5 640232.4 636354.1 600117.5 596790.  707823.\n",
      " 737945.  668692.8]\n",
      "Avg. rmse:  650012.93 \n",
      "\n",
      "DecisionTreeRegressor rmse:  [393540.  369681.9 345385.1 480813.  380993.7 322684.9 438469.8 542148.3\n",
      " 390376.9 434244.1]\n",
      "Avg. rmse:  409833.77 \n",
      "\n",
      "RandomForestRegressor rmse:  [334208.  319696.7 335558.8 458716.2 396109.3 374490.2 381071.3 519065.8\n",
      " 374048.3 404882.7]\n",
      "Avg. rmse:  389784.73 \n",
      "\n",
      "Polynomial regression rmse:  [ 543406.3  566408.2  565395.7  569690.9  553229.2  549853.1  546413.5\n",
      "  634786.4 1018197.7  597118.8]\n",
      "Avg. rmse:  614449.98 \n",
      "\n",
      "SVR rmse:  [772515.6 818967.  761090.6 810169.6 806250.  729769.5 752366.7 878232.9\n",
      " 885126.  814052.7]\n",
      "Avg. rmse:  802854.0599999999 \n",
      "\n",
      "GradientBoostingRegressor rmse:  [422132.5 383567.4 431826.4 481267.6 385078.3 422367.3 500675.7 491434.3\n",
      " 427205.2 410752.5]\n",
      "Avg. rmse:  435630.72 \n",
      "\n",
      "XGBoostRegressor rmse:  [310014.8 322087.8 341291.3 436780.4 367992.9 338934.8 413247.6 483108.6\n",
      " 350627.4 346671.9]\n",
      "Avg. rmse:  371075.75 \n",
      "\n"
     ]
    }
   ],
   "source": [
    "#%% 5.8 Evaluate with K-fold cross validation \n",
    "\n",
    "print('\\n____________ K-fold cross validation ________')\n",
    "\n",
    "run_new_evaluation = 1\n",
    "if run_new_evaluation:\n",
    "    cv = KFold(n_splits=10, shuffle=True, random_state=42)\n",
    "\n",
    "    # Evaluate LinearRegression\n",
    "    model_name = \"LinearRegression\" \n",
    "    model = LinearRegression()             \n",
    "    nmse_scores = cross_val_score(model, processed_train_set_val, train_set_labels, cv=cv, scoring='neg_mean_squared_error')\n",
    "    rmse_scores = np.sqrt(-nmse_scores)\n",
    "    os.makedirs('saved_objects/', exist_ok=True)\n",
    "    joblib.dump(rmse_scores,'saved_objects/' + model_name + '_rmse.pkl')\n",
    "    print(\"LinearRegression rmse: \", rmse_scores.round(decimals=1))\n",
    "    print(\"Avg. rmse: \", mean(rmse_scores.round(decimals=1)),'\\n')\n",
    "\n",
    "    # Evaluate DecisionTreeRegressor\n",
    "    model_name = \"DecisionTreeRegressor\" \n",
    "    model = DecisionTreeRegressor()\n",
    "    nmse_scores = cross_val_score(model, processed_train_set_val, train_set_labels, cv=cv, scoring='neg_mean_squared_error')\n",
    "    rmse_scores = np.sqrt(-nmse_scores)\n",
    "    joblib.dump(rmse_scores,'saved_objects/' + model_name + '_rmse.pkl')\n",
    "    print(\"DecisionTreeRegressor rmse: \", rmse_scores.round(decimals=1))\n",
    "    print(\"Avg. rmse: \", mean(rmse_scores.round(decimals=1)),'\\n')\n",
    "\n",
    "    # Evaluate RandomForestRegressor\n",
    "    model_name = \"RandomForestRegressor\" \n",
    "    model = RandomForestRegressor(n_estimators=5)\n",
    "    nmse_scores = cross_val_score(model, processed_train_set_val, train_set_labels, cv=cv, scoring='neg_mean_squared_error')\n",
    "    rmse_scores = np.sqrt(-nmse_scores)\n",
    "    joblib.dump(rmse_scores,'saved_objects/' + model_name + '_rmse.pkl')\n",
    "    print(\"RandomForestRegressor rmse: \", rmse_scores.round(decimals=1))\n",
    "    print(\"Avg. rmse: \", mean(rmse_scores.round(decimals=1)),'\\n')\n",
    "\n",
    "    # Evaluate Polynomial regression\n",
    "    model_name = \"PolynomialRegression\" \n",
    "    model = LinearRegression()\n",
    "    nmse_scores = cross_val_score(model, train_set_poly_added, train_set_labels, cv=cv, scoring='neg_mean_squared_error')\n",
    "    rmse_scores = np.sqrt(-nmse_scores)\n",
    "    joblib.dump(rmse_scores,'saved_objects/' + model_name + '_rmse.pkl')\n",
    "    print(\"Polynomial regression rmse: \", rmse_scores.round(decimals=1))\n",
    "    print(\"Avg. rmse: \", mean(rmse_scores.round(decimals=1)),'\\n')\n",
    "\n",
    "    # Evaluate Support Vector Regression\n",
    "    model_name = \"SVR\"\n",
    "    model = SVR(kernel='rbf')\n",
    "    nmse_scores = cross_val_score(model, processed_train_set_val, train_set_labels, cv=cv, scoring='neg_mean_squared_error')\n",
    "    rmse_scores = np.sqrt(-nmse_scores)\n",
    "    joblib.dump(rmse_scores, 'saved_objects/' + model_name + '_rmse.pkl')\n",
    "    print(\"SVR rmse: \", rmse_scores.round(decimals=1))\n",
    "    print(\"Avg. rmse: \", mean(rmse_scores.round(decimals=1)),'\\n')\n",
    "\n",
    "    # Evaluate GradientBoostingRegressor\n",
    "    model_name = \"GradientBoostingRegressor\"\n",
    "    model = GradientBoostingRegressor(n_estimators=100, learning_rate=0.1)\n",
    "    nmse_scores = cross_val_score(model, processed_train_set_val, train_set_labels, cv=cv, scoring='neg_mean_squared_error')\n",
    "    rmse_scores = np.sqrt(-nmse_scores)\n",
    "    joblib.dump(rmse_scores, 'saved_objects/' + model_name + '_rmse.pkl')\n",
    "    print(\"GradientBoostingRegressor rmse: \", rmse_scores.round(decimals=1))\n",
    "    print(\"Avg. rmse: \", mean(rmse_scores.round(decimals=1)),'\\n')\n",
    "\n",
    "    # Evaluate XGBoost Regressor\n",
    "    model_name = \"XGBoostRegressor\"\n",
    "    model = XGBRegressor(n_estimators=100, learning_rate=0.1)\n",
    "    nmse_scores = cross_val_score(model, processed_train_set_val, train_set_labels, cv=cv, scoring='neg_mean_squared_error')\n",
    "    rmse_scores = np.sqrt(-nmse_scores)\n",
    "    joblib.dump(rmse_scores, 'saved_objects/' + model_name + '_rmse.pkl')\n",
    "    print(\"XGBoostRegressor rmse: \", rmse_scores.round(decimals=1))\n",
    "    print(\"Avg. rmse: \", mean(rmse_scores.round(decimals=1)),'\\n')\n",
    "\n",
    "else:\n",
    "    # Load rmse scores\n",
    "    for model_name in [\"LinearRegression\", \"DecisionTreeRegressor\", \"RandomForestRegressor\", \"PolynomialRegression\", \"SVR\", \"GradientBoostingRegressor\", \"XGBoostRegressor\"]:\n",
    "        rmse_scores = joblib.load('saved_objects/' + model_name + '_rmse.pkl')\n",
    "        print(f\"\\n{model_name} rmse: \", rmse_scores.round(decimals=1))\n",
    "        print(\"Avg. rmse: \", mean(rmse_scores.round(decimals=1)),'\\n')\n",
    "#endregion"
   ]
  },
  {
   "cell_type": "markdown",
   "metadata": {},
   "source": [
    "## C. Comparision of Different Models\n",
    "\n",
    "<b>Note: </b>This data is taken from one of our latest program executions. The results may vary and be different when executing the program again. However, the overall trend in models' performances should be consistent, and the top performing models should be the ones as analysed and tested.\n",
    "\n",
    "### 1. Linear Regression:\n",
    "- R2 score: 0.318 (low)\n",
    "- RMSE: 646777.6 (high)\n",
    "- Cross-Validation Avg. RMSE: 650012.93\n",
    "- Overview: Linear regression is underperforming. The R2 score is quite low and the RMSE is high, indicating poor fitting to the data\n",
    "### 2. Decision Tree Regressor:\n",
    "- R2 score: 0.934 (high)\n",
    "- RMSE: 200386.1 (low)\n",
    "- Cross-Validation Avg. RMSE: 409833.77  \n",
    "- Overview: The decision tree shows strong performance on training data with an R2 close to 1, but cross-validation shows it is prone to overfitting, as indicated by the larger RMSE in some folds. However, it still performs better than linear regression \n",
    "### 3. Random Forest Regressor:\n",
    "- R2 score: 0.903 (high)\n",
    "- RMSE: 243671.7\n",
    "- Cross-Validation Avg. RMSE: 389784.73\n",
    "- Overview: Random Forest performs well with a strong R2 score and low RMSE. The cross-validation RMSE is lower compared to Decision Trees, indicating better generalization\n",
    "### 4. Polynomial Regression:\n",
    "- R2 score: 0.476 (moderate)\n",
    "- RMSE: 566901.7 (high)\n",
    "- Cross-Validation Avg. RMSE: 614449.98\n",
    "- Overview: The Polynomial regression does better than linear regression but it is not good compared to Dicision Tree Regressor and Random Forest Regressor because of high RMSE and moderate R2 score.\n",
    "### 5. Support Vector Regression\n",
    "- R2 score: -0.0537 (negative)\n",
    "- RMSE: 804285.6 (high)\n",
    "- Cross-Validation Avg. RMSE: 802854.059\n",
    "- Overview: Support Vector Regression performs very poorly, with negative R2 and high RMSE. Hence, it indicates that this is not a good model for this project.\n",
    "### 6. Gradient Boosting Regressor:\n",
    "- R2 score: 0.735\n",
    "- RMSE: 402687.6\n",
    "- Cross-Validation Avg. RMSE: 435630.72 \n",
    "- Overview: The Gradient Boosting Regressor provide a well performance with the quite high R2. It perform better than Linear Regression and Polynomial; however, it still not good as Random Forest.\n",
    "### 7. XGBoost Regressor: \n",
    "- R2 score: 0.847 (high)\n",
    "- RMSE: 306329.6\n",
    "- Cross-Validation Avg. RMSE: 371075.75\n",
    "- Overview: The XGBoost Regressor performs almost as well as Random Forest in terms of R2 score but achives a lower RMSE in the cross-validation, indicating better generalization.\n",
    "\n",
    "### Generally:\n",
    "In this case, XGBoost Regressor is the best model to use. This model has a strong R2 score of 0.847, a relatively low RMSE of 306329.6, and the lowest cross-validation RMSE (371075.75), indicating low overfitting and good generalization. As a strong candidate, Random Forest is slightly worse when it comes to RMSE."
   ]
  },
  {
   "cell_type": "markdown",
   "metadata": {},
   "source": [
    "# IV. Hyperparameter Fine-tuning"
   ]
  },
  {
   "cell_type": "code",
   "execution_count": 37,
   "metadata": {},
   "outputs": [],
   "source": [
    "# In[6]: STEP 6. FINE-TUNE MODELS \n",
    "\n",
    "def print_search_result(grid_search, model_name = \"\"): \n",
    "    print(\"\\n====== Fine-tune \" + model_name +\" ======\")\n",
    "    print('Best hyperparameter combination: ',grid_search.best_params_)\n",
    "    print('Best rmse: ', np.sqrt(-grid_search.best_score_))  \n",
    "    print('Performance of hyperparameter combinations:')\n",
    "    cv_results = grid_search.cv_results_\n",
    "    for (mean_score, params) in zip(cv_results[\"mean_test_score\"], cv_results[\"params\"]):\n",
    "        print('rmse =', np.sqrt(-mean_score).round(decimals=1), params) "
   ]
  },
  {
   "cell_type": "code",
   "execution_count": 38,
   "metadata": {},
   "outputs": [
    {
     "name": "stdout",
     "output_type": "stream",
     "text": [
      "\n",
      "____________ Fine-tune XGBoostRegressor ____________\n",
      "Fitting 5 folds for each of 10 candidates, totalling 50 fits\n",
      "\n",
      "====== Fine-tune XGBoostRegressor ======\n",
      "Best hyperparameter combination:  {'subsample': 1.0, 'n_estimators': 50, 'max_depth': 10, 'learning_rate': 0.2, 'colsample_bytree': 0.9}\n",
      "Best rmse:  385067.56849743176\n",
      "Performance of hyperparameter combinations:\n",
      "rmse = 407961.4 {'subsample': 1.0, 'n_estimators': 300, 'max_depth': 3, 'learning_rate': 0.2, 'colsample_bytree': 1.0}\n",
      "rmse = 387482.2 {'subsample': 1.0, 'n_estimators': 200, 'max_depth': 10, 'learning_rate': 0.1, 'colsample_bytree': 0.8}\n",
      "rmse = 411807.9 {'subsample': 0.7, 'n_estimators': 300, 'max_depth': 3, 'learning_rate': 0.1, 'colsample_bytree': 1.0}\n",
      "rmse = 400535.1 {'subsample': 1.0, 'n_estimators': 200, 'max_depth': 15, 'learning_rate': 0.3, 'colsample_bytree': 0.7}\n",
      "rmse = 409714.0 {'subsample': 0.7, 'n_estimators': 300, 'max_depth': 6, 'learning_rate': 0.3, 'colsample_bytree': 1.0}\n",
      "rmse = 401059.1 {'subsample': 0.8, 'n_estimators': 100, 'max_depth': 15, 'learning_rate': 0.2, 'colsample_bytree': 0.8}\n",
      "rmse = 507453.4 {'subsample': 0.9, 'n_estimators': 100, 'max_depth': 6, 'learning_rate': 0.01, 'colsample_bytree': 0.7}\n",
      "rmse = 400940.4 {'subsample': 0.9, 'n_estimators': 200, 'max_depth': 15, 'learning_rate': 0.1, 'colsample_bytree': 0.9}\n",
      "rmse = 385067.6 {'subsample': 1.0, 'n_estimators': 50, 'max_depth': 10, 'learning_rate': 0.2, 'colsample_bytree': 0.9}\n",
      "rmse = 427256.2 {'subsample': 1.0, 'n_estimators': 50, 'max_depth': 3, 'learning_rate': 0.3, 'colsample_bytree': 0.8}\n"
     ]
    }
   ],
   "source": [
    "\n",
    "# 6.2 Fine-tune XGBoost Regressor using RandomizedSearchCV\n",
    "from sklearn.model_selection import RandomizedSearchCV\n",
    "from xgboost import XGBRegressor\n",
    "\n",
    "print('\\n____________ Fine-tune XGBoostRegressor ____________')\n",
    "\n",
    "# Define the parameter grid for random search\n",
    "param_dist = {\n",
    "    'n_estimators': [50, 100, 200, 300],     # number of boosting rounds\n",
    "    'max_depth': [3, 6, 10, 15],             # max depth of trees\n",
    "    'learning_rate': [0.01, 0.1, 0.2, 0.3],  # step size shrinkage\n",
    "    'subsample': [0.7, 0.8, 0.9, 1.0],       # fraction of samples used for training\n",
    "    'colsample_bytree': [0.7, 0.8, 0.9, 1.0] # fraction of features used for tree construction\n",
    "}\n",
    "\n",
    "# Create the model\n",
    "model = XGBRegressor(random_state=37)\n",
    "\n",
    "# Setup random search with 10 iterations\n",
    "random_search = RandomizedSearchCV(model, param_distributions=param_dist, \n",
    "                                   n_iter=10, cv=5, scoring='neg_mean_squared_error', \n",
    "                                   verbose=2, random_state=37, n_jobs=-1)\n",
    "\n",
    "# Perform the random search on the training data\n",
    "random_search.fit(processed_train_set_val, train_set_labels)\n",
    "\n",
    "# Save the best model and search results\n",
    "joblib.dump(random_search, 'saved_objects/XGBoostRegressor_randomsearch.pkl')\n",
    "\n",
    "# Display the results\n",
    "print_search_result(random_search, model_name=\"XGBoostRegressor\")"
   ]
  },
  {
   "cell_type": "code",
   "execution_count": 39,
   "metadata": {},
   "outputs": [
    {
     "name": "stdout",
     "output_type": "stream",
     "text": [
      "\n",
      "____________ Fine-tune RandomForestRegressor ____________\n",
      "Fitting 5 folds for each of 10 candidates, totalling 50 fits\n",
      "\n",
      "====== Fine-tune RandomForestRegressor ======\n",
      "Best hyperparameter combination:  {'n_estimators': 100, 'min_samples_split': 2, 'min_samples_leaf': 1, 'max_depth': 10, 'bootstrap': True}\n",
      "Best rmse:  380224.5729955061\n",
      "Performance of hyperparameter combinations:\n",
      "rmse = 389619.3 {'n_estimators': 200, 'min_samples_split': 5, 'min_samples_leaf': 1, 'max_depth': 40, 'bootstrap': True}\n",
      "rmse = 430093.1 {'n_estimators': 100, 'min_samples_split': 5, 'min_samples_leaf': 4, 'max_depth': None, 'bootstrap': False}\n",
      "rmse = 390087.7 {'n_estimators': 50, 'min_samples_split': 5, 'min_samples_leaf': 1, 'max_depth': 30, 'bootstrap': True}\n",
      "rmse = 380224.6 {'n_estimators': 100, 'min_samples_split': 2, 'min_samples_leaf': 1, 'max_depth': 10, 'bootstrap': True}\n",
      "rmse = 428695.1 {'n_estimators': 100, 'min_samples_split': 5, 'min_samples_leaf': 2, 'max_depth': 20, 'bootstrap': False}\n",
      "rmse = 414178.2 {'n_estimators': 50, 'min_samples_split': 10, 'min_samples_leaf': 1, 'max_depth': None, 'bootstrap': False}\n",
      "rmse = 430087.9 {'n_estimators': 50, 'min_samples_split': 2, 'min_samples_leaf': 4, 'max_depth': 30, 'bootstrap': False}\n",
      "rmse = 390065.7 {'n_estimators': 300, 'min_samples_split': 10, 'min_samples_leaf': 1, 'max_depth': 40, 'bootstrap': True}\n",
      "rmse = 405285.3 {'n_estimators': 200, 'min_samples_split': 5, 'min_samples_leaf': 4, 'max_depth': None, 'bootstrap': True}\n",
      "rmse = 430098.2 {'n_estimators': 300, 'min_samples_split': 5, 'min_samples_leaf': 4, 'max_depth': 40, 'bootstrap': False}\n"
     ]
    }
   ],
   "source": [
    "# 6.2 Method 2: Random search for RandomForestRegressor\n",
    "from sklearn.model_selection import RandomizedSearchCV\n",
    "from sklearn.ensemble import RandomForestRegressor\n",
    "\n",
    "print('\\n____________ Fine-tune RandomForestRegressor ____________')\n",
    "\n",
    "# Define the parameter grid for random search\n",
    "param_dist = {\n",
    "    'n_estimators': [50, 100, 200, 300],  # Number of trees\n",
    "    'max_depth': [None, 10, 20, 30, 40],  # Maximum depth of the tree\n",
    "    'min_samples_split': [2, 5, 10],      # Minimum number of samples required to split an internal node\n",
    "    'min_samples_leaf': [1, 2, 4],        # Minimum number of samples required to be at a leaf node\n",
    "    'bootstrap': [True, False]            # Whether bootstrap samples are used when building trees\n",
    "}\n",
    "\n",
    "# Create the model\n",
    "model = RandomForestRegressor(random_state=37)\n",
    "\n",
    "# Setup random search with 10 iterations\n",
    "random_search = RandomizedSearchCV(model, param_distributions=param_dist, n_iter=10, cv=5, scoring='neg_mean_squared_error', verbose=2, random_state=37, n_jobs=-1)\n",
    "\n",
    "# Perform the random search on the training data\n",
    "random_search.fit(processed_train_set_val, train_set_labels)\n",
    "\n",
    "# Save the best model and search results\n",
    "joblib.dump(random_search, 'saved_objects/RandomForestRegressor_randomsearch.pkl')\n",
    "\n",
    "# Display the results\n",
    "def print_search_result(grid_search, model_name=\"\"):\n",
    "    print(\"\\n====== Fine-tune \" + model_name + \" ======\")\n",
    "    print('Best hyperparameter combination: ', grid_search.best_params_)\n",
    "    print('Best rmse: ', np.sqrt(-grid_search.best_score_))  \n",
    "    print('Performance of hyperparameter combinations:')\n",
    "    cv_results = grid_search.cv_results_\n",
    "    for (mean_score, params) in zip(cv_results[\"mean_test_score\"], cv_results[\"params\"]):\n",
    "        print('rmse =', np.sqrt(-mean_score).round(decimals=1), params) \n",
    "\n",
    "print_search_result(random_search, model_name=\"RandomForestRegressor\")"
   ]
  },
  {
   "cell_type": "markdown",
   "metadata": {},
   "source": [
    "## A. Evaluation\n",
    "\n",
    "### Chosen model for Fine-tuning --> Random Forest Regressor\n",
    "\n",
    "### Reasons for choosing the fine-tune model\n",
    "In the previous part - step 5, the result shows that the best model is XGBoost Regressor. However, we recognize that that the RandomForest Regressor show similar outcome with a slightly lower statistics. \n",
    "\n",
    "Thus, we decide to fine tune model in step 6. After fine tuning both models, the best model turns out to be RandomForest Regressor and not XGBoost as reckoned in step 5. \n",
    "\n",
    "Therefore, in step 7, RandomForest Regressor will be chosen the be the test model."
   ]
  },
  {
   "cell_type": "markdown",
   "metadata": {},
   "source": [
    "## B. Justification for Value ranges\n",
    "1. n_estimators: [50, 100, 200, 300]\n",
    "This value refers to the number of trees in the forest. More trees leads to better performance, but also increase training time and computational load. Fewer trees train faster but might not have variance in the data. <br>\n",
    "=> Range from 50 to 300 balance between performance and computational cost. \n",
    "\n",
    "2. max_depth: [None, 10, 20, 30, 40]\n",
    "This value controls the maximum depth of each tree. None allows the tree to mature while 40 captures more complex pattern. The range covers shallow to deep trees.\n",
    "\n",
    "3. min_samples_split: [2, 5, 10]\n",
    "This value is the minimum number of samples required to split an internal node. The range includes both middle and low values which potentially reduces overfitting,\n",
    "\n",
    "4. min_samples_leaf: [1, 2, 4]\n",
    "This value is the minimum number of samples need to be at a leaf node. It determines the complexity of the tree. Lower values allow more specific leaf nodes.\n",
    "\n",
    "5. bootstrap: [True, False]\n",
    "This value determines if bootstrap samples are used when building trees. This parameter allows both options to determine which one works better for the dataset. "
   ]
  },
  {
   "cell_type": "code",
   "execution_count": 40,
   "metadata": {},
   "outputs": [
    {
     "name": "stdout",
     "output_type": "stream",
     "text": [
      "\n",
      "____________ ANALYZE AND TEST YOUR SOLUTION ____________\n",
      "SOLUTION:  RandomForestRegressor(max_depth=10, random_state=37)\n",
      "\n",
      "Features and importance score: \n",
      "('year', np.float64(0.3715))\n",
      "('km_driven', np.float64(0.3178))\n",
      "('seats', np.float64(0.1805))\n",
      "('transmission', np.float64(0.0522))\n",
      "('engine', np.float64(0.043))\n",
      "('torque', np.float64(0.0139))\n",
      "('SELLING PRICE RANGE', np.float64(0.0076))\n",
      "('Diesel', np.float64(0.005))\n",
      "('CNG', np.float64(0.0034))\n",
      "('Dealer', np.float64(0.0025))\n",
      "('Petrol', np.float64(0.0024))\n",
      "('Individual', np.float64(0.0003))\n",
      "('LPG', np.float64(0.0001))\n",
      "('mileage', np.float64(0.0))\n",
      "('max_power', np.float64(0.0))\n",
      "\n",
      "Performance on test data:\n",
      "R2 score (on test data, best=1): 0.8413071235441043\n",
      "Root Mean Square Error:  335949.6\n",
      "\n",
      "Test data: \n",
      "       year  km_driven    fuel seller_type transmission         owner  \\\n",
      "5488  2019      40000  Diesel  Individual       Manual   First Owner   \n",
      "7849  2013      25000  Petrol  Individual       Manual   First Owner   \n",
      "1979  2018      18000  Diesel      Dealer    Automatic   First Owner   \n",
      "2072  2013     140000  Diesel  Individual    Automatic  Second Owner   \n",
      "2052  2019      24000  Diesel  Individual       Manual   First Owner   \n",
      "7682  2017      50000  Diesel  Individual       Manual   First Owner   \n",
      "2982  2016      59300  Petrol  Individual       Manual   First Owner   \n",
      "6575  2017      45000  Diesel      Dealer    Automatic   First Owner   \n",
      "7065  2017      16500  Petrol  Individual       Manual  Second Owner   \n",
      "\n",
      "         mileage   engine  max_power                  torque  seats  \\\n",
      "5488   24.3 kmpl  1248 CC   88.5 bhp          200Nm@ 1750rpm    5.0   \n",
      "7849  20.92 kmpl   998 CC   67.1 bhp           90Nm@ 3500rpm    5.0   \n",
      "1979  19.62 kmpl  1998 CC    190 bhp     400nm@ 1750-2500rpm    5.0   \n",
      "2072  18.88 kmpl  1995 CC    184 bhp     380Nm@ 1750-2750rpm    5.0   \n",
      "2052   28.4 kmpl  1248 CC  74.02 bhp          190Nm@ 2000rpm    5.0   \n",
      "7682   24.0 kmpl  1186 CC  73.97 bhp  190.24nm@ 1750-2250rpm    5.0   \n",
      "2982  25.17 kmpl   799 CC   53.3 bhp           72Nm@ 4386rpm    5.0   \n",
      "6575  19.33 kmpl  1999 CC    177 bhp     430Nm@ 1750-2500rpm    5.0   \n",
      "7065  23.01 kmpl   999 CC     67 bhp           91Nm@ 4250rpm    5.0   \n",
      "\n",
      "     SELLING PRICE RANGE  \n",
      "5488                  10  \n",
      "7849                   4  \n",
      "1979                  10  \n",
      "2072                  10  \n",
      "2052                   8  \n",
      "7682                   6  \n",
      "2982                   4  \n",
      "6575                  10  \n",
      "7065                   4  \n",
      "\n",
      "Predictions:  [ 858309.1  301232.5 1871521.9  505254.1  966124.8  767753.3  400949.5\n",
      " 3199852.9  906283.8]\n",
      "Labels:       [900000, 215000, 3350000, 1300000, 750000, 600000, 240000, 3200000, 325000] \n",
      "\n"
     ]
    }
   ],
   "source": [
    "# In[7]: STEP 7. ANALYZE AND TEST YOUR SOLUTION\n",
    "#region\n",
    "\n",
    "# 7.1 Pick the best model - the SOLUTION\n",
    "\n",
    "# Picked RandomForestRegressor\n",
    "search = joblib.load('saved_objects/RandomForestRegressor_randomsearch.pkl')\n",
    "best_model = search.best_estimator_\n",
    "\n",
    "print('\\n____________ ANALYZE AND TEST YOUR SOLUTION ____________')\n",
    "print('SOLUTION: ' , best_model)\n",
    "store_model(best_model, model_name=\"SOLUTION\")   \n",
    "\n",
    "# 7.2 Analyse the SOLUTION to get more insights about the data\n",
    "# NOTE: ONLY for RandomForestRegressor\n",
    "if type(best_model).__name__ == \"RandomForestRegressor\":\n",
    "    # Print features and importance scores (ONLY on rand forest)\n",
    "    feature_importances = best_model.feature_importances_\n",
    "    onehot_cols = []\n",
    "    for val_list in full_pipeline.transformer_list[1][1].named_steps['cat_encoder'].categories_: \n",
    "        onehot_cols = onehot_cols + val_list.tolist()\n",
    "    feature_names = train_set.columns.tolist() + onehot_cols\n",
    "    for name in cat_feat_names:\n",
    "        feature_names.remove(name)\n",
    "    print('\\nFeatures and importance score: ')\n",
    "    print(*sorted(zip( feature_names, feature_importances.round(decimals=4)), key = lambda row: row[1], reverse=True),sep='\\n')\n",
    "\n",
    "#%% 7.3 Run on test data\n",
    "full_pipeline = joblib.load(r'models/full_pipeline.pkl')\n",
    "processed_test_set = full_pipeline.transform(test_set)  \n",
    "\n",
    "# 7.3.1 Compute R2 score and RMSE\n",
    "r2score, rmse = r2score_and_rmse(best_model, processed_test_set, test_set_labels)\n",
    "print('\\nPerformance on test data:')\n",
    "print('R2 score (on test data, best=1):', r2score)\n",
    "print(\"Root Mean Square Error: \", rmse.round(decimals=1))\n",
    "\n",
    "# 7.3.2 Predict labels for some test instances\n",
    "print(\"\\nTest data: \\n\", test_set.iloc[0:9])\n",
    "print(\"\\nPredictions: \", best_model.predict(processed_test_set[0:9]).round(decimals=1))\n",
    "print(\"Labels:      \", list(test_set_labels[0:9]),'\\n')\n",
    "\n",
    "#endregion"
   ]
  },
  {
   "cell_type": "markdown",
   "metadata": {},
   "source": [
    "# V. Model Testing and Analysis:\n",
    "After testing the RandomForestRegressor model (chosen best model in the previous phase), these are keys insights and analysis which is based on the above result."
   ]
  },
  {
   "cell_type": "markdown",
   "metadata": {},
   "source": [
    "## A. Feature importance\n",
    "- The most important feature is 'year' (0.3687). This result indicates that the manufacturing year of the car significantly influences its selling price.\n",
    "- 'Mileage'(0.1852) feature is also highly infuential, this score shows that customers also care about the fuel efficiency.\n",
    "- 'km_driven'(0.1589) comes next, showing the important of how far that the car is used.\n",
    "- 'max_power'(0.0452), 'seats'(0.0146) and 'transmission' (0.0394) also have noticeable statistics, they moderately influence the car's selling price.\n",
    "- Characteristics such as fuel type (e.g., CNG, LPG, Diesel, Petrol) and seller type (e.g., Dealer, Individual) have a negligible effect on the model's predictive power.\n",
    "- It's interesting to see that this model's 'engine' and 'torque', which are predicted to have some bearing on cost, are irrelevant. This could be the result of mishandling certain features, multicollinearity, or noise in the data.\n",
    "\n",
    "## B. Model performance\n",
    "- R² score of 0.8413 indicates that the model explains about 84% of the variance in the test data, this number proves that this model has a good performance.\n",
    "- The Root Mean Square Error (RMSE) is 335,949.6, which seems large, but depending on the dataset's price range (8128 entries), this may be acceptable. It indicates the typical error magnitude in predictions.\n",
    "\n",
    "## C. Potential limitations and possible low performance causes\n",
    "- Missing values - Certain features contained up to 222 missing values, which may impact the overall performance results of the training data session as well as model testing phase. This can directly affect the quality and reliability of the analysis if those missing figures were to be significant.\n",
    "- Inconsistent Data types of each feature - 'mileage', 'engine' and 'max_power' all have non-numerical units within their data cells. Hence, to turn them into a usable format, preprocessing must be prioritized for these columns to tackle the inconsistency in values, leading to a higher complexity data preprocessing phase. This can potentially result in conversion errors and inaccuracies if not handled properly.\n",
    "\n",
    "## D. Suggestions for Improvements\n",
    "- Standardize Numerical and Categorical Data - the mentioned columns above with inconsistent data types should be standardized, they should exclude all non-numerical values and potentially use more consistent units for easier data preprocessing.\n",
    "- Include a more variety of relevant features - For example, precise geographical locations, such as cities and provinces, should be included as distinct areas all have different terrains, climates and standards of living. These factors may dramatically affect the needs and demands of a specific car models that fit the requirements of specified terrains. As a result, we can see regional pricing trends, clear customer preferences in each area, hence being able to predict the selling prices more effectively."
   ]
  },
  {
   "cell_type": "markdown",
   "metadata": {},
   "source": [
    "## E. Conclusion\n",
    "With a high R2 score, the RandomForestRegressor has generally shown significant predictive performance, suggesting that the features employed offer a reliable foundation for projecting car costs. But the RMSE highlights areas that require improvement, especially in terms of features selection and data quality."
   ]
  }
 ],
 "metadata": {
  "kernelspec": {
   "display_name": "Python 3",
   "language": "python",
   "name": "python3"
  },
  "language_info": {
   "codemirror_mode": {
    "name": "ipython",
    "version": 3
   },
   "file_extension": ".py",
   "mimetype": "text/x-python",
   "name": "python",
   "nbconvert_exporter": "python",
   "pygments_lexer": "ipython3",
   "version": "3.12.5"
  }
 },
 "nbformat": 4,
 "nbformat_minor": 2
}
