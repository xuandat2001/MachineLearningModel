{
 "cells": [
  {
   "cell_type": "code",
   "execution_count": 1,
   "metadata": {},
   "outputs": [],
   "source": [
    "# In[0]: IMPORT AND FUNCTIONS\n",
    "#region \n",
    "# pip install scikit-learn # to install sklearn\n",
    "# !pip install pandas\n",
    "import pandas as pd\n",
    "import numpy as np\n",
    "import matplotlib.pyplot as plt\n",
    "from sklearn.base import BaseEstimator, TransformerMixin\n",
    "from sklearn.pipeline import FeatureUnion\n",
    "from sklearn.pipeline import Pipeline\n",
    "from sklearn.preprocessing import StandardScaler\n",
    "from sklearn.impute import SimpleImputer  \n",
    "from sklearn.preprocessing import OneHotEncoder      \n",
    "from sklearn.model_selection import KFold   \n",
    "from statistics import mean\n",
    "import joblib \n",
    "#endregion"
   ]
  },
  {
   "cell_type": "code",
   "execution_count": 2,
   "metadata": {},
   "outputs": [],
   "source": [
    "# In[2]: STEP 2. GET THE DATA (DONE). LOAD DATA\n",
    "raw_data = pd.read_csv(r'C:\\RMIT Programing\\Python Programming\\Asm3\\datasets\\CarDetailsV3.csv')"
   ]
  },
  {
   "cell_type": "code",
   "execution_count": 6,
   "metadata": {},
   "outputs": [
    {
     "name": "stdout",
     "output_type": "stream",
     "text": [
      "\n",
      "____________ Dataset info ____________\n",
      "<class 'pandas.core.frame.DataFrame'>\n",
      "RangeIndex: 8128 entries, 0 to 8127\n",
      "Data columns (total 13 columns):\n",
      " #   Column         Non-Null Count  Dtype  \n",
      "---  ------         --------------  -----  \n",
      " 0   name           8128 non-null   object \n",
      " 1   year           8128 non-null   int64  \n",
      " 2   selling_price  8128 non-null   int64  \n",
      " 3   km_driven      8128 non-null   int64  \n",
      " 4   fuel           8128 non-null   object \n",
      " 5   seller_type    8128 non-null   object \n",
      " 6   transmission   8128 non-null   object \n",
      " 7   owner          8128 non-null   object \n",
      " 8   mileage        7907 non-null   object \n",
      " 9   engine         7907 non-null   object \n",
      " 10  max_power      7913 non-null   object \n",
      " 11  torque         7906 non-null   object \n",
      " 12  seats          7907 non-null   float64\n",
      "dtypes: float64(1), int64(3), object(9)\n",
      "memory usage: 825.6+ KB\n",
      "None\n",
      "\n",
      "____________ Some first data examples ____________\n",
      "                           name  year  selling_price  km_driven    fuel  \\\n",
      "0        Maruti Swift Dzire VDI  2014         450000     145500  Diesel   \n",
      "1  Skoda Rapid 1.5 TDI Ambition  2014         370000     120000  Diesel   \n",
      "2      Honda City 2017-2020 EXi  2006         158000     140000  Petrol   \n",
      "\n",
      "  seller_type transmission         owner     mileage   engine   max_power  \\\n",
      "0  Individual       Manual   First Owner   23.4 kmpl  1248 CC      74 bhp   \n",
      "1  Individual       Manual  Second Owner  21.14 kmpl  1498 CC  103.52 bhp   \n",
      "2  Individual       Manual   Third Owner   17.7 kmpl  1497 CC      78 bhp   \n",
      "\n",
      "                  torque  seats  \n",
      "0         190Nm@ 2000rpm    5.0  \n",
      "1    250Nm@ 1500-2500rpm    5.0  \n",
      "2  12.7@ 2,700(kgm@ rpm)    5.0  \n",
      "\n",
      "____________ Counts on a feature ____________\n",
      "fuel\n",
      "Diesel    4402\n",
      "Petrol    3631\n",
      "CNG         57\n",
      "LPG         38\n",
      "Name: count, dtype: int64\n",
      "\n",
      "____________ Statistics of numeric features ____________\n",
      "              year  selling_price     km_driven        seats\n",
      "count  8128.000000   8.128000e+03  8.128000e+03  7907.000000\n",
      "mean   2013.804011   6.382718e+05  6.981951e+04     5.416719\n",
      "std       4.044249   8.062534e+05  5.655055e+04     0.959588\n",
      "min    1983.000000   2.999900e+04  1.000000e+00     2.000000\n",
      "25%    2011.000000   2.549990e+05  3.500000e+04     5.000000\n",
      "50%    2015.000000   4.500000e+05  6.000000e+04     5.000000\n",
      "75%    2017.000000   6.750000e+05  9.800000e+04     5.000000\n",
      "max    2020.000000   1.000000e+07  2.360457e+06    14.000000\n",
      "\n",
      "____________ Get specific rows and cols ____________\n",
      "    selling_price seller_type\n",
      "0          450000  Individual\n",
      "5          440000  Individual\n",
      "48         700000      Dealer\n"
     ]
    }
   ],
   "source": [
    "# In[3]: STEP 3. DISCOVER THE DATA TO GAIN INSIGHTS\n",
    "#region\n",
    "# 3.1 Quick view of the data\n",
    "print('\\n____________ Dataset info ____________')\n",
    "print(raw_data.info())      \n",
    "print('\\n____________ Some first data examples ____________')\n",
    "print(raw_data.head(3)) \n",
    "print('\\n____________ Counts on a feature ____________')\n",
    "print(raw_data['fuel'].value_counts()) \n",
    "print('\\n____________ Statistics of numeric features ____________')\n",
    "print(raw_data.describe())   \n",
    "print('\\n____________ Get specific rows and cols ____________')     \n",
    "print(raw_data.iloc[[0,5,48], [2, 5]] ) # Refer using column ID\n",
    " "
   ]
  }
 ],
 "metadata": {
  "kernelspec": {
   "display_name": "Python 3",
   "language": "python",
   "name": "python3"
  },
  "language_info": {
   "codemirror_mode": {
    "name": "ipython",
    "version": 3
   },
   "file_extension": ".py",
   "mimetype": "text/x-python",
   "name": "python",
   "nbconvert_exporter": "python",
   "pygments_lexer": "ipython3",
   "version": "3.12.4"
  }
 },
 "nbformat": 4,
 "nbformat_minor": 2
}
