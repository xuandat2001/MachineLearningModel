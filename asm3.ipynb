{
 "cells": [
  {
   "cell_type": "markdown",
   "metadata": {},
   "source": [
    "# 1. DATA EXPLORATION\n",
    "\n",
    "## 1.1 Import and functions"
   ]
  },
  {
   "cell_type": "code",
   "execution_count": 3,
   "metadata": {},
   "outputs": [
    {
     "name": "stdout",
     "output_type": "stream",
     "text": [
      "Requirement already satisfied: scikit-learn in /Library/Frameworks/Python.framework/Versions/3.11/lib/python3.11/site-packages (1.5.1)\n",
      "Requirement already satisfied: numpy>=1.19.5 in /Library/Frameworks/Python.framework/Versions/3.11/lib/python3.11/site-packages (from scikit-learn) (2.0.1)\n",
      "Requirement already satisfied: scipy>=1.6.0 in /Library/Frameworks/Python.framework/Versions/3.11/lib/python3.11/site-packages (from scikit-learn) (1.14.1)\n",
      "Requirement already satisfied: joblib>=1.2.0 in /Library/Frameworks/Python.framework/Versions/3.11/lib/python3.11/site-packages (from scikit-learn) (1.4.2)\n",
      "Requirement already satisfied: threadpoolctl>=3.1.0 in /Library/Frameworks/Python.framework/Versions/3.11/lib/python3.11/site-packages (from scikit-learn) (3.5.0)\n",
      "\n",
      "\u001b[1m[\u001b[0m\u001b[34;49mnotice\u001b[0m\u001b[1;39;49m]\u001b[0m\u001b[39;49m A new release of pip is available: \u001b[0m\u001b[31;49m23.1.2\u001b[0m\u001b[39;49m -> \u001b[0m\u001b[32;49m24.2\u001b[0m\n",
      "\u001b[1m[\u001b[0m\u001b[34;49mnotice\u001b[0m\u001b[1;39;49m]\u001b[0m\u001b[39;49m To update, run: \u001b[0m\u001b[32;49mpip3 install --upgrade pip\u001b[0m\n",
      "Note: you may need to restart the kernel to use updated packages.\n"
     ]
    }
   ],
   "source": [
    "pip install scikit-learn"
   ]
  },
  {
   "cell_type": "code",
   "execution_count": 5,
   "metadata": {},
   "outputs": [
    {
     "name": "stdout",
     "output_type": "stream",
     "text": [
      "Collecting pandas\n",
      "  Downloading pandas-2.2.2-cp311-cp311-macosx_10_9_x86_64.whl (12.6 MB)\n",
      "\u001b[2K     \u001b[90m━━━━━━━━━━━━━━━━━━━━━━━━━━━━━━━━━━━━━━━━\u001b[0m \u001b[32m12.6/12.6 MB\u001b[0m \u001b[31m2.3 MB/s\u001b[0m eta \u001b[36m0:00:00\u001b[0m00:01\u001b[0m00:01\u001b[0m\n",
      "\u001b[?25hRequirement already satisfied: numpy>=1.23.2 in /Library/Frameworks/Python.framework/Versions/3.11/lib/python3.11/site-packages (from pandas) (2.0.1)\n",
      "Requirement already satisfied: python-dateutil>=2.8.2 in /Users/callysta/Library/Python/3.11/lib/python/site-packages (from pandas) (2.9.0.post0)\n",
      "Collecting pytz>=2020.1 (from pandas)\n",
      "  Downloading pytz-2024.1-py2.py3-none-any.whl (505 kB)\n",
      "\u001b[2K     \u001b[90m━━━━━━━━━━━━━━━━━━━━━━━━━━━━━━━━━━━━━━━\u001b[0m \u001b[32m505.5/505.5 kB\u001b[0m \u001b[31m1.5 MB/s\u001b[0m eta \u001b[36m0:00:00\u001b[0m00:01\u001b[0m00:01\u001b[0m\n",
      "\u001b[?25hCollecting tzdata>=2022.7 (from pandas)\n",
      "  Downloading tzdata-2024.1-py2.py3-none-any.whl (345 kB)\n",
      "\u001b[2K     \u001b[90m━━━━━━━━━━━━━━━━━━━━━━━━━━━━━━━━━━━━━━━\u001b[0m \u001b[32m345.4/345.4 kB\u001b[0m \u001b[31m1.7 MB/s\u001b[0m eta \u001b[36m0:00:00\u001b[0m00:01\u001b[0m00:01\u001b[0m\n",
      "\u001b[?25hRequirement already satisfied: six>=1.5 in /Users/callysta/Library/Python/3.11/lib/python/site-packages (from python-dateutil>=2.8.2->pandas) (1.16.0)\n",
      "Installing collected packages: pytz, tzdata, pandas\n",
      "Successfully installed pandas-2.2.2 pytz-2024.1 tzdata-2024.1\n",
      "\n",
      "\u001b[1m[\u001b[0m\u001b[34;49mnotice\u001b[0m\u001b[1;39;49m]\u001b[0m\u001b[39;49m A new release of pip is available: \u001b[0m\u001b[31;49m23.1.2\u001b[0m\u001b[39;49m -> \u001b[0m\u001b[32;49m24.2\u001b[0m\n",
      "\u001b[1m[\u001b[0m\u001b[34;49mnotice\u001b[0m\u001b[1;39;49m]\u001b[0m\u001b[39;49m To update, run: \u001b[0m\u001b[32;49mpip3 install --upgrade pip\u001b[0m\n",
      "Note: you may need to restart the kernel to use updated packages.\n"
     ]
    }
   ],
   "source": [
    "pip install pandas"
   ]
  },
  {
   "cell_type": "code",
   "execution_count": 6,
   "metadata": {},
   "outputs": [],
   "source": [
    "# IMPORT AND FUNCTIONS\n",
    "import pandas as pd\n",
    "import numpy as np\n",
    "import matplotlib.pyplot as plt\n",
    "from sklearn.base import BaseEstimator, TransformerMixin\n",
    "from sklearn.pipeline import FeatureUnion\n",
    "from sklearn.pipeline import Pipeline\n",
    "from sklearn.preprocessing import StandardScaler\n",
    "from sklearn.impute import SimpleImputer  \n",
    "from sklearn.preprocessing import OneHotEncoder      \n",
    "from sklearn.model_selection import KFold   \n",
    "from statistics import mean\n",
    "import joblib \n",
    "#endregion"
   ]
  },
  {
   "cell_type": "markdown",
   "metadata": {},
   "source": [
    "## 1.2: Get the Data\n",
    "### Load dataset into the Jupyter Notebook"
   ]
  },
  {
   "cell_type": "markdown",
   "metadata": {},
   "source": [
    "### The dataset is data about car retails."
   ]
  },
  {
   "cell_type": "code",
   "execution_count": 10,
   "metadata": {},
   "outputs": [],
   "source": [
    "# In[2]: STEP 2. GET THE DATA (DONE). LOAD DATA\n",
    "# Note: the path has to be edited corresponding to where it is on the local computer\n",
    "raw_data = pd.read_csv(r'/Users/callysta/Documents/FoundOfAI/GroupAssignment/datasets/CarDetailsV3.csv')"
   ]
  },
  {
   "cell_type": "markdown",
   "metadata": {},
   "source": [
    "## 1.3: DISCOVER THE DATA TO GAIN INSIGHTS\n",
    "### 1.3.1: Quick view of data"
   ]
  },
  {
   "cell_type": "code",
   "execution_count": 11,
   "metadata": {},
   "outputs": [
    {
     "name": "stdout",
     "output_type": "stream",
     "text": [
      "\n",
      "____________ Dataset info ____________\n",
      "<class 'pandas.core.frame.DataFrame'>\n",
      "RangeIndex: 8128 entries, 0 to 8127\n",
      "Data columns (total 13 columns):\n",
      " #   Column         Non-Null Count  Dtype  \n",
      "---  ------         --------------  -----  \n",
      " 0   name           8128 non-null   object \n",
      " 1   year           8128 non-null   int64  \n",
      " 2   selling_price  8128 non-null   int64  \n",
      " 3   km_driven      8128 non-null   int64  \n",
      " 4   fuel           8128 non-null   object \n",
      " 5   seller_type    8128 non-null   object \n",
      " 6   transmission   8128 non-null   object \n",
      " 7   owner          8128 non-null   object \n",
      " 8   mileage        7907 non-null   object \n",
      " 9   engine         7907 non-null   object \n",
      " 10  max_power      7913 non-null   object \n",
      " 11  torque         7906 non-null   object \n",
      " 12  seats          7907 non-null   float64\n",
      "dtypes: float64(1), int64(3), object(9)\n",
      "memory usage: 825.6+ KB\n",
      "None\n",
      "\n",
      "____________ Some first data examples ____________\n",
      "                           name  year  selling_price  km_driven    fuel  \\\n",
      "0        Maruti Swift Dzire VDI  2014         450000     145500  Diesel   \n",
      "1  Skoda Rapid 1.5 TDI Ambition  2014         370000     120000  Diesel   \n",
      "2      Honda City 2017-2020 EXi  2006         158000     140000  Petrol   \n",
      "\n",
      "  seller_type transmission         owner     mileage   engine   max_power  \\\n",
      "0  Individual       Manual   First Owner   23.4 kmpl  1248 CC      74 bhp   \n",
      "1  Individual       Manual  Second Owner  21.14 kmpl  1498 CC  103.52 bhp   \n",
      "2  Individual       Manual   Third Owner   17.7 kmpl  1497 CC      78 bhp   \n",
      "\n",
      "                  torque  seats  \n",
      "0         190Nm@ 2000rpm    5.0  \n",
      "1    250Nm@ 1500-2500rpm    5.0  \n",
      "2  12.7@ 2,700(kgm@ rpm)    5.0  \n",
      "\n",
      "____________ Counts on a feature ____________\n",
      "fuel\n",
      "Diesel    4402\n",
      "Petrol    3631\n",
      "CNG         57\n",
      "LPG         38\n",
      "Name: count, dtype: int64\n",
      "\n",
      "____________ Statistics of numeric features ____________\n",
      "              year  selling_price     km_driven        seats\n",
      "count  8128.000000   8.128000e+03  8.128000e+03  7907.000000\n",
      "mean   2013.804011   6.382718e+05  6.981951e+04     5.416719\n",
      "std       4.044249   8.062534e+05  5.655055e+04     0.959588\n",
      "min    1983.000000   2.999900e+04  1.000000e+00     2.000000\n",
      "25%    2011.000000   2.549990e+05  3.500000e+04     5.000000\n",
      "50%    2015.000000   4.500000e+05  6.000000e+04     5.000000\n",
      "75%    2017.000000   6.750000e+05  9.800000e+04     5.000000\n",
      "max    2020.000000   1.000000e+07  2.360457e+06    14.000000\n",
      "\n",
      "____________ Get specific rows and cols ____________\n",
      "    selling_price seller_type\n",
      "0          450000  Individual\n",
      "5          440000  Individual\n",
      "48         700000      Dealer\n"
     ]
    }
   ],
   "source": [
    "\n",
    "# 3.1 Quick view of the data\n",
    "print('\\n____________ Dataset info ____________')\n",
    "print(raw_data.info())      \n",
    "print('\\n____________ Some first data examples ____________')\n",
    "print(raw_data.head(3)) \n",
    "print('\\n____________ Counts on a feature ____________')\n",
    "print(raw_data['fuel'].value_counts()) \n",
    "print('\\n____________ Statistics of numeric features ____________')\n",
    "print(raw_data.describe())   \n",
    "print('\\n____________ Get specific rows and cols ____________')     \n",
    "print(raw_data.iloc[[0,5,48], [2, 5]] ) # Refer using column ID\n",
    " "
   ]
  },
  {
   "cell_type": "markdown",
   "metadata": {},
   "source": [
    "### Our label data is selling_price with the datatype int64. \n",
    "\n",
    "### The main objective of this project:\n",
    "is to predict the selling price of a car based on its conditions.\n",
    "\n",
    "### Overview of the dataset\n",
    "The table above shows that there are 8128 rows. However, there are some missing values in mileages, engine, max_power, torque, seats."
   ]
  },
  {
   "cell_type": "markdown",
   "metadata": {},
   "source": [
    "## 1.3.2: Scatter plot between 2 features\n",
    "### Feature selections:\n",
    "To approach this regression problem and focus on predicting the price, features that are suspected to have an impactful correlation raking from high to low:\n",
    "1. The year the car was produced (year)\n",
    "2. Kilometers Driven (km_driven)\n",
    "3. Engine capacity (max_power)"
   ]
  },
  {
   "cell_type": "code",
   "execution_count": null,
   "metadata": {},
   "outputs": [],
   "source": [
    "# 3.2 Scatter plot b/w 2 features\n",
    "if 1:\n",
    "    raw_data.plot(kind=\"scatter\", y=\"selling_price\", x=\"year\", alpha=0.2)\n",
    "    # plt.axis([min_year, max_year, min_price, max_price])  # Optional: Set axis limits if needed\n",
    "    plt.savefig('figures/scatter_selling_price_year.png', format='png', dpi=300)\n",
    "    plt.show()      \n",
    "if 1:\n",
    "    raw_data.plot(kind=\"scatter\", y=\"selling_price\", x=\"km_driven\", alpha=0.2)\n",
    "    # plt.axis([min_km_driven, max_km_driven, min_price, max_price])  # Optional: Set axis limits if needed\n",
    "    plt.savefig('figures/scatter_selling_price_km_driven.png', format='png', dpi=300)\n",
    "    plt.show()\n",
    "\n",
    "# 3.3 Scatter plot b/w every pair of features\n",
    "if 1:\n",
    "    features_to_plot = [\"selling_price\", \"year\", \"km_driven\", \"max_power\"]\n",
    "    scatter_matrix(raw_data[features_to_plot], figsize=(12, 8)) # Note: histograms on the main diagonal\n",
    "    plt.savefig('figures/scatter_matrix_car_features.png', format='png', dpi=300)\n",
    "    plt.show()\n",
    "\n",
    "# 3.4 Plot histogram of 1 feature\n",
    "if 1:\n",
    "    features_to_plot = [\"selling_price\"]\n",
    "    scatter_matrix(raw_data[features_to_plot], figsize=(12, 8)) # Note: histograms on the main diagonal\n",
    "    plt.show()\n",
    "\n",
    "# 3.5 Plot histogram of numeric features\n",
    "if 1:\n",
    "    raw_data.hist(figsize=(10, 5)) #bins: no. of intervals\n",
    "    plt.rcParams['xtick.labelsize'] = 10\n",
    "    plt.rcParams['ytick.labelsize'] = 10\n",
    "    plt.tight_layout()\n",
    "    plt.savefig('figures/hist_car_data.png', format='png', dpi=300) # must save before show()\n",
    "    plt.show()\n",
    "\n",
    "# 3.6 Compute correlations b/w features\n",
    "corr_matrix = raw_data.corr(numeric_only=True)\n",
    "#print(corr_matrix) # print correlation matrix\n",
    "print('\\n', corr_matrix[\"selling_price\"].sort_values(ascending=False)) # print correlation b/w a feature and other features\n",
    "\n",
    "# 3.7 Try combining features\n",
    "raw_data[\"price_per_km\"] = raw_data[\"selling_price\"] / raw_data[\"km_driven\"]\n",
    "raw_data[\"price_per_hp\"] = raw_data[\"selling_price\"] / raw_data[\"max_power\"].replace(\" bhp\", \"\", regex=True).astype(float)  # Ensure max_power is numeric\n",
    "corr_matrix = raw_data.corr(numeric_only=True)\n",
    "print(corr_matrix[\"selling_price\"].sort_values(ascending=False)) # print correlation b/w a feature and other features\n",
    "raw_data.drop(columns=[\"price_per_km\", \"price_per_hp\"], inplace=True) # remove experiment columns\n"
   ]
  }
 ],
 "metadata": {
  "kernelspec": {
   "display_name": "Python 3",
   "language": "python",
   "name": "python3"
  },
  "language_info": {
   "codemirror_mode": {
    "name": "ipython",
    "version": 3
   },
   "file_extension": ".py",
   "mimetype": "text/x-python",
   "name": "python",
   "nbconvert_exporter": "python",
   "pygments_lexer": "ipython3",
   "version": "3.11.4"
  }
 },
 "nbformat": 4,
 "nbformat_minor": 2
}
